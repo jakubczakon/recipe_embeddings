{
 "cells": [
  {
   "cell_type": "code",
   "execution_count": 1,
   "metadata": {
    "collapsed": false
   },
   "outputs": [],
   "source": [
    "%load_ext autoreload\n",
    "%autoreload 2\n",
    "\n",
    "import sys\n",
    "sys.path.insert(0, '../')\n",
    "\n",
    "import cPickle as pickle\n",
    "\n",
    "import os\n",
    "import json\n",
    "from copy import copy\n",
    "\n",
    "from itertools import groupby,chain,tee,izip,islice\n",
    "from collections import Iterable,Counter\n",
    "from operator import itemgetter \n",
    "\n",
    "import numpy as np\n",
    "from random import shuffle\n",
    "\n",
    "import re\n",
    "\n",
    "import nltk\n",
    "from nltk.stem import RSLPStemmer,SnowballStemmer\n",
    "from nltk import PunktSentenceTokenizer,FreqDist\n",
    "from nltk.corpus import stopwords\n",
    "from nltk import UnigramTagger,BigramTagger\n",
    "\n",
    "import gensim\n",
    "from gensim.models import Word2Vec,Phrases\n",
    "\n",
    "from glove import Glove,Corpus\n",
    "from word_embeddings_utils import GloveExtended\n",
    "\n",
    "import nlpnet"
   ]
  },
  {
   "cell_type": "code",
   "execution_count": 2,
   "metadata": {
    "collapsed": true
   },
   "outputs": [
    {
     "ename": "IOError",
     "evalue": "[Errno 2] No such file or directory: '../datasets/quantity_detection_recipe_dataset.pkl'",
     "output_type": "error",
     "traceback": [
      "\u001b[1;31m---------------------------------------------------------------------------\u001b[0m",
      "\u001b[1;31mIOError\u001b[0m                                   Traceback (most recent call last)",
      "\u001b[1;32m<ipython-input-2-8a8db159eae7>\u001b[0m in \u001b[0;36m<module>\u001b[1;34m()\u001b[0m\n\u001b[0;32m      1\u001b[0m \u001b[0mrecipes_input_filepath\u001b[0m \u001b[1;33m=\u001b[0m \u001b[0mos\u001b[0m\u001b[1;33m.\u001b[0m\u001b[0mpath\u001b[0m\u001b[1;33m.\u001b[0m\u001b[0mjoin\u001b[0m\u001b[1;33m(\u001b[0m\u001b[1;34m\"../datasets\"\u001b[0m\u001b[1;33m,\u001b[0m\u001b[1;34m\"quantity_detection_recipe_dataset.pkl\"\u001b[0m\u001b[1;33m)\u001b[0m\u001b[1;33m\u001b[0m\u001b[0m\n\u001b[1;32m----> 2\u001b[1;33m \u001b[0min_s\u001b[0m \u001b[1;33m=\u001b[0m \u001b[0mopen\u001b[0m\u001b[1;33m(\u001b[0m\u001b[0mrecipes_input_filepath\u001b[0m\u001b[1;33m,\u001b[0m \u001b[1;34m'rb'\u001b[0m\u001b[1;33m)\u001b[0m\u001b[1;33m\u001b[0m\u001b[0m\n\u001b[0m\u001b[0;32m      3\u001b[0m \u001b[0mdataset_recipes\u001b[0m \u001b[1;33m=\u001b[0m \u001b[0mpickle\u001b[0m\u001b[1;33m.\u001b[0m\u001b[0mload\u001b[0m\u001b[1;33m(\u001b[0m\u001b[0min_s\u001b[0m\u001b[1;33m)\u001b[0m\u001b[1;33m\u001b[0m\u001b[0m\n\u001b[0;32m      4\u001b[0m \u001b[1;33m\u001b[0m\u001b[0m\n\u001b[0;32m      5\u001b[0m \u001b[0mingredients_input_filepath\u001b[0m \u001b[1;33m=\u001b[0m \u001b[0mos\u001b[0m\u001b[1;33m.\u001b[0m\u001b[0mpath\u001b[0m\u001b[1;33m.\u001b[0m\u001b[0mjoin\u001b[0m\u001b[1;33m(\u001b[0m\u001b[1;34m\"../datasets\"\u001b[0m\u001b[1;33m,\u001b[0m\u001b[1;34m\"quantity_detection_ingredient_dataset.pkl\"\u001b[0m\u001b[1;33m)\u001b[0m\u001b[1;33m\u001b[0m\u001b[0m\n",
      "\u001b[1;31mIOError\u001b[0m: [Errno 2] No such file or directory: '../datasets/quantity_detection_recipe_dataset.pkl'"
     ]
    }
   ],
   "source": [
    "recipes_input_filepath = os.path.join(\"../datasets\",\"quantity_detection_recipe_dataset.pkl\")\n",
    "in_s = open(recipes_input_filepath, 'rb')\n",
    "dataset_recipes = pickle.load(in_s)\n",
    "\n",
    "ingredients_input_filepath = os.path.join(\"../datasets\",\"quantity_detection_ingredient_dataset.pkl\")\n",
    "in_s = open(ingredients_input_filepath, 'rb')\n",
    "dataset_ingredients = pickle.load(in_s)"
   ]
  },
  {
   "cell_type": "code",
   "execution_count": null,
   "metadata": {
    "collapsed": false
   },
   "outputs": [],
   "source": [
    "print len(dataset_recipes),dataset_recipes[:5][0]\n",
    "print len(dataset_ingredients),dataset_ingredients[:5]"
   ]
  },
  {
   "cell_type": "code",
   "execution_count": null,
   "metadata": {
    "collapsed": true
   },
   "outputs": [],
   "source": [
    "print ingredients_bigrams[:100]"
   ]
  },
  {
   "cell_type": "code",
   "execution_count": null,
   "metadata": {
    "collapsed": false
   },
   "outputs": [],
   "source": [
    "PosTaggerPt= nlpnet.POSTagger('../../pretrained_models/nlp/pos-pt/', language='pt')"
   ]
  },
  {
   "cell_type": "code",
   "execution_count": 3,
   "metadata": {
    "collapsed": true
   },
   "outputs": [],
   "source": [
    "SRLTaggerPt = nlpnet.SRLTagger('../../pretrained_models/nlp/srl-pt/', language='pt')"
   ]
  },
  {
   "cell_type": "code",
   "execution_count": 4,
   "metadata": {
    "collapsed": false
   },
   "outputs": [
    {
     "ename": "NameError",
     "evalue": "name 'dataset_recipes' is not defined",
     "output_type": "error",
     "traceback": [
      "\u001b[1;31m---------------------------------------------------------------------------\u001b[0m",
      "\u001b[1;31mNameError\u001b[0m                                 Traceback (most recent call last)",
      "\u001b[1;32m<ipython-input-4-836be6171858>\u001b[0m in \u001b[0;36m<module>\u001b[1;34m()\u001b[0m\n\u001b[1;32m----> 1\u001b[1;33m \u001b[0mrecipe_example\u001b[0m \u001b[1;33m=\u001b[0m \u001b[1;34m\" \"\u001b[0m\u001b[1;33m.\u001b[0m\u001b[0mjoin\u001b[0m\u001b[1;33m(\u001b[0m\u001b[0mdataset_recipes\u001b[0m\u001b[1;33m[\u001b[0m\u001b[1;33m:\u001b[0m\u001b[1;36m5\u001b[0m\u001b[1;33m]\u001b[0m\u001b[1;33m[\u001b[0m\u001b[1;36m0\u001b[0m\u001b[1;33m]\u001b[0m\u001b[1;33m)\u001b[0m\u001b[1;33m\u001b[0m\u001b[0m\n\u001b[0m\u001b[0;32m      2\u001b[0m \u001b[0mpos_tagged_recipe_example\u001b[0m \u001b[1;33m=\u001b[0m \u001b[0mPosTaggerPt\u001b[0m\u001b[1;33m.\u001b[0m\u001b[0mtag\u001b[0m\u001b[1;33m(\u001b[0m\u001b[0mrecipe_example\u001b[0m\u001b[1;33m)\u001b[0m\u001b[1;33m\u001b[0m\u001b[0m\n\u001b[0;32m      3\u001b[0m \u001b[1;32mprint\u001b[0m \u001b[0mrecipe_example\u001b[0m\u001b[1;33m\u001b[0m\u001b[0m\n\u001b[0;32m      4\u001b[0m \u001b[1;32mprint\u001b[0m \u001b[0mtagged_recipe_example\u001b[0m\u001b[1;33m\u001b[0m\u001b[0m\n",
      "\u001b[1;31mNameError\u001b[0m: name 'dataset_recipes' is not defined"
     ]
    }
   ],
   "source": [
    "recipe_example = \" \".join(dataset_recipes[:5][0])\n",
    "pos_tagged_recipe_example = PosTaggerPt.tag(recipe_example)\n",
    "print recipe_example\n",
    "print tagged_recipe_example"
   ]
  },
  {
   "cell_type": "code",
   "execution_count": null,
   "metadata": {
    "collapsed": false
   },
   "outputs": [],
   "source": [
    "sent = SRLTaggerPt.tag(recipe_example)[0]\n",
    "print sent.arg_structures"
   ]
  },
  {
   "cell_type": "code",
   "execution_count": null,
   "metadata": {
    "collapsed": true
   },
   "outputs": [],
   "source": [
    "dataset = dataset_ingredients+dataset_recipes"
   ]
  },
  {
   "cell_type": "code",
   "execution_count": null,
   "metadata": {
    "collapsed": true
   },
   "outputs": [],
   "source": [
    "corpus_quantity = Corpus() \n",
    "corpus_quantity.fit(dataset, window=1)"
   ]
  },
  {
   "cell_type": "code",
   "execution_count": null,
   "metadata": {
    "collapsed": false
   },
   "outputs": [],
   "source": [
    "quantity_model = GloveExtended(no_components=50, learning_rate=0.0001) \n",
    "quantity_model.fit(corpus_quantity.matrix, epochs=10, no_threads=4, verbose=False)\n",
    "\n",
    "quantity_model.add_dictionary(corpus_quantity.dictionary)\n",
    "quantity_model.most_similar(\"number\",number=100)"
   ]
  },
  {
   "cell_type": "code",
   "execution_count": null,
   "metadata": {
    "collapsed": false
   },
   "outputs": [],
   "source": [
    "print quantity_model.most_similar(\"number\",number=100)[6][0]"
   ]
  },
  {
   "cell_type": "code",
   "execution_count": null,
   "metadata": {
    "collapsed": false
   },
   "outputs": [],
   "source": [
    "corpus_time = Corpus() \n",
    "corpus_time.fit(dataset, window=10)"
   ]
  },
  {
   "cell_type": "code",
   "execution_count": null,
   "metadata": {
    "collapsed": false
   },
   "outputs": [],
   "source": [
    "time_model = GloveExtended(no_components=100, learning_rate=0.0001) \n",
    "time_model.fit(corpus_time.matrix, epochs=1000, no_threads=4, verbose=False)\n",
    "\n",
    "time_model.add_dictionary(corpus_time.dictionary)\n",
    "time_model.most_similar(\"time\",number=100)"
   ]
  },
  {
   "cell_type": "code",
   "execution_count": null,
   "metadata": {
    "collapsed": true
   },
   "outputs": [],
   "source": []
  }
 ],
 "metadata": {
  "kernelspec": {
   "display_name": "Python 2",
   "language": "python",
   "name": "python2"
  },
  "language_info": {
   "codemirror_mode": {
    "name": "ipython",
    "version": 2
   },
   "file_extension": ".py",
   "mimetype": "text/x-python",
   "name": "python",
   "nbconvert_exporter": "python",
   "pygments_lexer": "ipython2",
   "version": "2.7.11"
  }
 },
 "nbformat": 4,
 "nbformat_minor": 0
}
