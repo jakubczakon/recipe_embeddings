{
 "cells": [
  {
   "cell_type": "code",
   "execution_count": 1,
   "metadata": {
    "collapsed": false
   },
   "outputs": [],
   "source": [
    "# -*- coding: utf-8 -*-\n",
    "\n",
    "%load_ext autoreload\n",
    "%matplotlib inline\n",
    "%autoreload 2\n",
    "\n",
    "import os\n",
    "import sys\n",
    "sys.path.insert(0, '../')\n",
    "import json\n",
    "\n",
    "from ipywidgets import interact\n",
    "\n",
    "from ggplot import *\n",
    "\n",
    "from sklearn.manifold import TSNE\n",
    "\n",
    "from utils_pack.utils import pickle_in,pickle_out"
   ]
  },
  {
   "cell_type": "code",
   "execution_count": 2,
   "metadata": {
    "collapsed": false
   },
   "outputs": [
    {
     "name": "stderr",
     "output_type": "stream",
     "text": [
      "Using Theano backend.\n"
     ]
    }
   ],
   "source": [
    "simple_mean_on_ingredients_model = pickle_in(os.path.join(\"../models\",\n",
    "                                                          \"food_terms_embedding_models\",\n",
    "                                                          \"model_1\",\n",
    "                                                          \"recipe_embeddings_simple_mean_on_ingredients.pkl\")\n",
    "                                            )\n",
    "simple_mean_on_ingredients_NF = pickle_in(os.path.join(\"../models\",\n",
    "                                                          \"food_terms_embedding_models\",\n",
    "                                                          \"model_1\",\n",
    "                                            \"search_class_recipe_embeddings_simple_mean_on_ingredients.pkl\")\n",
    "                                            )\n",
    "\n",
    "tf_idf_mean_on_ingredients_model = pickle_in(os.path.join(\"../models\",\n",
    "                                                          \"food_terms_embedding_models\",\n",
    "                                                          \"model_1\",\n",
    "                                                          \"recipe_embeddings_tf_idf_mean_on_ingredients.pkl\")\n",
    "                                            )\n",
    "tf_idf_mean_on_ingredients_NF = pickle_in(os.path.join(\"../models\",\n",
    "                                                          \"food_terms_embedding_models\",\n",
    "                                                          \"model_1\",\n",
    "                                            \"search_class_recipe_embeddings_tf_idf_mean_on_ingredients.pkl\")\n",
    "                                            )"
   ]
  },
  {
   "cell_type": "code",
   "execution_count": 4,
   "metadata": {
    "collapsed": false
   },
   "outputs": [
    {
     "name": "stdout",
     "output_type": "stream",
     "text": [
      "Frango com Milho Verde e Polenta\n",
      "   -1 frang grand temper cort pedac\n",
      "   -3 colh sop óle\n",
      "   -1 cebol ral\n",
      "   -2 dent alho amass\n",
      "   -2 colh sop extrat tomat\n",
      "   -1 lat tomat pel\n",
      "   -1 lat milh verd\n",
      "   -sal piment gost\n",
      "   -óle frit\n",
      "   -2 xíc chá águ\n",
      "   -1 xíc chá leit\n",
      "   -1 tablet cald galinh\n",
      "   -1 tablet cald legum\n",
      "   -1 ½ xíc chá fub\n",
      "   -½ lat crem leit sor\n",
      "   -3 colh sop queij ral\n",
      "Close recipes:\n",
      "  Picadinho à JC with distance 0.000759209642623\n",
      "   -1 kg alcatr fil mignon (cort tir pedac 2 cm máximo)\n",
      "   -100g toucinh pic cubinh\n",
      "   -1 1/2 xíc chá pur tomat\n",
      "   -2 xíc chá cebol picadinh\n",
      "   -3 dent alho soc\n",
      "   -+- 1 litr cald carn (bo part vai evaporar)\n",
      "   -4 colh sop cheir verd picadinh\n",
      "   -1 colh sop molh inglês\n",
      "   -1 colh sop óle\n",
      "   -sal piment rein gost\n",
      "   -1 folh lour\n",
      "  Receita de panqueca de carne moída with distance 0.00107241491638\n",
      "   -1 cop leit (200ml)\n",
      "   -1 ovo\n",
      "   -1 cop farinh trig\n",
      "   -1 colh sop óle\n",
      "   -1 pit sal\n",
      "   -800g carn moíd\n",
      "   -1 cebol méd ral picadinh\n",
      "   -2 dent alho esprem\n",
      "   -2 tomat pel sement\n",
      "   -350g molh tomat\n",
      "   -3 colh sop azeit\n",
      "   -300 ml águ quent\n",
      "   -1 cald carn\n",
      "   -sal gost\n",
      "   -queij parmesã ral gost\n",
      "  Carne de Sol com pirão de leite  with distance 0.00110259066214\n",
      "   -1 quil carn sol, preferent gordur\n",
      "   -1 colh sop manteig garraf\n",
      "   -4 cebol grand picadinh\n",
      "   -1 litr leit ferv\n",
      "   -sal gost\n",
      "   -2 pacot farinh mandioc cru\n",
      "   -sals cebolinh\n",
      "  Moqueca de Peixe II with distance 0.00115454209481\n",
      "   -4 post caçã garoup (700 gramas)\n",
      "   -suc 1 limã\n",
      "   -1 cebol grand cort rodel\n",
      "   -1 pimentã vermelh cort rodel\n",
      "   -1 pimentã verd cort rodel\n",
      "   -2 tomat madur cort rodel\n",
      "   -2 colh sop coentr pic\n",
      "   -200 ml leit coc\n",
      "   -1 colh sop azeite-de-dend\n",
      "   -2 tablet cald cam\n",
      "  Peru Stuffed with distance 0.00119904808678\n",
      "   -1 peru + - 3 1/2 kg\n",
      "   -1 kg castanh portugues coz\n",
      "   -150g bacon pic\n",
      "   -2 maçãs verd pic casc sement\n",
      "   -bacon fati quant bast\n",
      "   -1 xíc chá vinh branc sec\n",
      "   -frut preferent\n",
      "   -1 colh sop manteig\n",
      "   -2 cebol méd pic\n",
      "   -noz-mosc gost\n",
      "   -sal pimenta-do-rein gost\n",
      "   -1 colh sop bem che açúc\n",
      "   -1 pit canel pó\n",
      "  Escondidinho de salsicha with distance 0.00120656564628\n",
      "   -2/3 xíc chá leit\n",
      "   -1 colh sop manteig\n",
      "   -1 kg batat coz esprem\n",
      "   -1 kg salsich fati\n",
      "   -1 xíc chá molh tomat\n",
      "   -100 gram mussarel ral\n",
      "   -sal piment rein gost\n",
      "   -queij ral gosto.\n",
      "  Arroz verde restô dontê with distance 0.00122934687634\n",
      "   -2 xíc arroz coz dia anterior\n",
      "   -1 colh sop azeit\n",
      "   -1 cebol méd\n",
      "   -1 dent alho amass\n",
      "   -1/2 xíc tal salsinh bem picadinh\n",
      "   -2 xíc mei couv pic\n",
      "   -1 lat ervilh escorr lav\n",
      "   -sal pimenta-do-rein gost\n",
      "   -1 colh sop salsinh picadinh\n",
      "   -2 colh sop cebolinh picadinh\n",
      "  Sobra de Arroz no Forno with distance 0.00130504400917\n",
      "   -3 xíc chá sobr arroz\n",
      "   -1 embalag requeijã\n",
      "   -1 abobrinh italian ral\n",
      "   -2 ovos\n",
      "   -2 colh sop azeit\n",
      "   -1 cebol pic\n",
      "   -1 cenour ral\n",
      "   -sal piment gost\n",
      "   -sals pic gost\n",
      "   -queij parmesã ral quant bast\n",
      "  Mousse de Maracujá II with distance 0.00130521652011\n",
      "   -1 lat leit condens\n",
      "   -1 lat (mesm medida) suc concentr maracuj\n",
      "   -6 gram gelatin pó sabor\n",
      "   -3 clar nev\n",
      "   -2 colh sop açúc\n"
     ]
    },
    {
     "data": {
      "text/plain": [
       "<function __main__.present_results_simple_mean>"
      ]
     },
     "execution_count": 4,
     "metadata": {},
     "output_type": "execute_result"
    }
   ],
   "source": [
    "def present_results_simple_mean(index):\n",
    "    index = int(index)\n",
    "    tf_idf_mean_on_ingredients_NF.fit_model(k=10)\n",
    "    tf_idf_mean_on_ingredients_NF.get_closest_recipes(recipe_title = index,mode=\"index\")\n",
    "        \n",
    "interact(present_results_simple_mean,index=\"1\")"
   ]
  },
  {
   "cell_type": "code",
   "execution_count": null,
   "metadata": {
    "collapsed": true
   },
   "outputs": [],
   "source": [
    "recipe_vectors = []"
   ]
  },
  {
   "cell_type": "code",
   "execution_count": null,
   "metadata": {
    "collapsed": true
   },
   "outputs": [],
   "source": [
    "TSNE_model = TSNE(n_components=2, random_state=0)\n",
    "np.set_printoptions(suppress=True)\n",
    "predict_after_tsne = TSNE_model.fit_transform(recipe_vectors)"
   ]
  },
  {
   "cell_type": "code",
   "execution_count": null,
   "metadata": {
    "collapsed": true
   },
   "outputs": [],
   "source": [
    "data_for_plot_tsne = pd.DataFrame(dict(x_tsne=predict_after_tsne[:,1],\n",
    "                                       y_tsne=predict_after_tsne[:,0],\n",
    "                                        recipe_name=titles))"
   ]
  },
  {
   "cell_type": "code",
   "execution_count": null,
   "metadata": {
    "collapsed": true
   },
   "outputs": [],
   "source": [
    "data_for_plot_tsne_sample = data_for_plot_tsne.sample(10)\n",
    "x_min = np.min(data_for_plot_tsne_sample['x_tsne'])\n",
    "x_max = np.max(data_for_plot_tsne_sample['x_tsne'])\n",
    "y_min = np.min(data_for_plot_tsne_sample['y_tsne'])\n",
    "y_max = np.max(data_for_plot_tsne_sample['y_tsne'])\n",
    "\n",
    "ggplot(aes(x='x_tsne', y='y_tsne'),data = data_for_plot_tsne_sample)+\\\n",
    "geom_point(color=\"red\")+geom_text(aes(label='recipe_name'),size =8)+\\\n",
    "xlim(x_min,x_max)+ylim(y_min,y_max)"
   ]
  }
 ],
 "metadata": {
  "kernelspec": {
   "display_name": "Python 2",
   "language": "python",
   "name": "python2"
  },
  "language_info": {
   "codemirror_mode": {
    "name": "ipython",
    "version": 2
   },
   "file_extension": ".py",
   "mimetype": "text/x-python",
   "name": "python",
   "nbconvert_exporter": "python",
   "pygments_lexer": "ipython2",
   "version": "2.7.11"
  }
 },
 "nbformat": 4,
 "nbformat_minor": 0
}
