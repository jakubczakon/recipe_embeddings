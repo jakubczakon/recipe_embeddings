{
 "cells": [
  {
   "cell_type": "code",
   "execution_count": 1,
   "metadata": {
    "collapsed": false
   },
   "outputs": [],
   "source": [
    "%load_ext autoreload\n",
    "%autoreload 2\n",
    "\n",
    "import sys\n",
    "sys.path.insert(0, '../')\n",
    "\n",
    "import cPickle as pickle\n",
    "\n",
    "import os\n",
    "import json\n",
    "from copy import copy\n",
    "\n",
    "from itertools import groupby,chain,tee,izip,islice\n",
    "from collections import Iterable,Counter\n",
    "from operator import itemgetter \n",
    "\n",
    "import numpy as np\n",
    "from random import shuffle\n",
    "\n",
    "import re\n",
    "\n",
    "import nltk\n",
    "from nltk.stem import RSLPStemmer,SnowballStemmer\n",
    "from nltk import PunktSentenceTokenizer,FreqDist\n",
    "from nltk.corpus import stopwords\n",
    "from nltk import UnigramTagger,BigramTagger\n",
    "\n",
    "from utils import pickle_in,pickle_out"
   ]
  },
  {
   "cell_type": "code",
   "execution_count": 2,
   "metadata": {
    "collapsed": false
   },
   "outputs": [],
   "source": [
    "input_filepath = os.path.join(\"../datasets\",\"cozinhabrasileira\",\"dataset_recetas.pkl\")\n",
    "dataset = pickle_in(input_filepath)\n",
    "titles,titles_tokens,ingredients_cleaned,recipes_cleaned=zip(*dataset)"
   ]
  },
  {
   "cell_type": "code",
   "execution_count": 3,
   "metadata": {
    "collapsed": false
   },
   "outputs": [],
   "source": [
    "stopwords = nltk.corpus.stopwords.words('portuguese')"
   ]
  },
  {
   "cell_type": "code",
   "execution_count": 4,
   "metadata": {
    "collapsed": true
   },
   "outputs": [],
   "source": [
    "stemmer_RSLPS = RSLPStemmer()\n",
    "stemmer_Snow = SnowballStemmer(\"portuguese\")"
   ]
  },
  {
   "cell_type": "code",
   "execution_count": 5,
   "metadata": {
    "collapsed": false
   },
   "outputs": [],
   "source": [
    "titles_stemmed = [[stemmer_Snow.stem(word) for word in title if word not in stopwords] \n",
    "                  for title in titles_tokens]"
   ]
  },
  {
   "cell_type": "code",
   "execution_count": 6,
   "metadata": {
    "collapsed": true
   },
   "outputs": [],
   "source": [
    "recipes_stemmed = [[[stemmer_Snow.stem(word) for word in sentence if word not in stopwords] \n",
    "                    for sentence in recipe] for recipe in recipes_cleaned]"
   ]
  },
  {
   "cell_type": "code",
   "execution_count": 10,
   "metadata": {
    "collapsed": false
   },
   "outputs": [],
   "source": [
    "pickle_out(os.path.join(\"../datasets\",\"cozinhabrasileira\",\"dataset_ingredients.pkl\"),ingredients_cleaned)\n",
    "ingredients_stemmed = [[[stemmer_Snow.stem(word) for word in sentence if word not in stopwords] \n",
    "                    for sentence in recipe] for recipe in ingredients_cleaned]\n",
    "pickle_out(os.path.join(\"../datasets\",\"cozinhabrasileira\",\"dataset_ingredients_stemmed.pkl\"),ingredients_stemmed)"
   ]
  },
  {
   "cell_type": "code",
   "execution_count": 12,
   "metadata": {
    "collapsed": false
   },
   "outputs": [
    {
     "name": "stdout",
     "output_type": "stream",
     "text": [
      "[u'coloqu', u'piment\\xe3', u'lav', u'sobr', u'boc', u'fog\\xe3', u'deix', u'casc', u'queim', u'bem.', u'enrol', u'piment\\xe3', u'queim', u'film', u'pl\\xe1stic', u'reserve.', u'lev', u'fog', u'cebol', u'cort', u'fin', u'fat', u'uniformes,', u'pouquinh', u'azeit', u'sal,', u'deix', u'cozinh', u'fog', u'baix', u'amolec', u'bem.', u'acrescent', u'a\\xe7\\xfac', u'cozinh', u'dour', u'bem.', u'junt', u'ent\\xe3', u'linguic', u'cort', u'rodel', u'deix', u'fritando.', u'enquant', u'linguic', u'frita,', u'volt', u'piment\\xe3o.', u'desembrulh', u'retir', u'casc', u'queimadas.', u'abra', u'piment\\xe3o,', u'descart', u'sement', u'cort', u'tir', u'simil', u'cebolas.', u'quand', u'linguic', u'suficient', u'frit', u'dourada,', u'coloqu', u'piment\\xe3', u'junt', u'mistura,', u'prov', u'temper', u'pronto.', u'sirv', u'p\\xe3', u'com', u'palit', u'aperitivo.', u'rend', u'5', u'+', u'por\\xe7\\xf5es.', u'500', u'g', u'lingui\\xe7a', u'fina', u'1', u'piment\\xe3o', u'vermelho', u'grande', u'2', u'cebolas', u'grandes', u'1', u'colher', u'de', u'sopa', u'de', u'a\\xe7\\xfacar', u'Azeite', u'o', u'quanto', u'baste', u'Sal', u'e', u'pimenta', u'a', u'gosto']\n"
     ]
    }
   ],
   "source": [
    "full_recipe_ingredient = zip(recipes_stemmed,ingredients_cleaned)\n",
    "flat_recipe_ingredient = []\n",
    "for i,rec in enumerate(full_recipe_ingredient):\n",
    "    a,b =  rec\n",
    "    a = [item for sublist in a for item in sublist]\n",
    "    b = [item for sublist in b for item in sublist]\n",
    "    full_rec_ingr = a+b\n",
    "    print full_rec_ingr\n",
    "    flat_recipe_ingredient.append(full_rec_ingr)\n",
    "pickle_out(os.path.join(\"../datasets\",\"cozinhabrasileira\",\n",
    "                        \"dataset_recipe_plus_ingredient_flat.pkl\"),flat_recipe_ingredient)"
   ]
  },
  {
   "cell_type": "code",
   "execution_count": 12,
   "metadata": {
    "collapsed": true
   },
   "outputs": [],
   "source": [
    "ingredients_stemmed_with_titles = zip(titles,ingredients_stemmed)\n",
    "pickle_out(os.path.join(\"../datasets\",\"cozinhabrasileira\",\n",
    "                        \"dataset_ingredients_stemmed_with_titles.pkl\"),ingredients_stemmed_with_titles)"
   ]
  },
  {
   "cell_type": "code",
   "execution_count": null,
   "metadata": {
    "collapsed": true
   },
   "outputs": [],
   "source": [
    "all_stemmed_with_titles = []\n",
    "full_pickle = \n",
    "for k in enumerate(ingredients_stemmed_with_titles):\n",
    "    a,b = k "
   ]
  },
  {
   "cell_type": "code",
   "execution_count": 8,
   "metadata": {
    "collapsed": true
   },
   "outputs": [],
   "source": [
    "def containts_number(inputString):\n",
    "    return any(char.isdigit() for char in inputString)"
   ]
  },
  {
   "cell_type": "code",
   "execution_count": 15,
   "metadata": {
    "collapsed": false
   },
   "outputs": [],
   "source": [
    "quant_detect_ingredient_dataset = [[[\"number\" if containts_number(word) else word for word in sentence ] \n",
    "                               for sentence in recipe ] for recipe in ingredients_stemmed]"
   ]
  },
  {
   "cell_type": "code",
   "execution_count": 16,
   "metadata": {
    "collapsed": true
   },
   "outputs": [],
   "source": [
    "quant_detect_recipe_dataset = [[[\"time\" if containts_number(word) else word for word in sentence ] \n",
    "                               for sentence in recipe ] for recipe in recipes_stemmed]"
   ]
  },
  {
   "cell_type": "code",
   "execution_count": 17,
   "metadata": {
    "collapsed": false
   },
   "outputs": [],
   "source": [
    "flat_quant_detect_ingredient_dataset= []\n",
    "for recipe in quant_detect_ingredient_dataset:\n",
    "    for ingredients in recipe:\n",
    "        if \"number\" not in ingredients:\n",
    "            ingredients = [\"number\"]+ingredients\n",
    "        flat_quant_detect_ingredient_dataset.append(ingredients)"
   ]
  },
  {
   "cell_type": "code",
   "execution_count": 18,
   "metadata": {
    "collapsed": true
   },
   "outputs": [],
   "source": [
    "flat_quant_detect_recipe_dataset= []\n",
    "for recipe in quant_detect_recipe_dataset:\n",
    "    for ingredients in recipe:\n",
    "        flat_quant_detect_recipe_dataset.append(ingredients)"
   ]
  },
  {
   "cell_type": "code",
   "execution_count": 19,
   "metadata": {
    "collapsed": false
   },
   "outputs": [],
   "source": [
    "output_filepath = os.path.join(\"../datasets\",\"quantity_detection_recipe_stemmed_dataset.pkl\")\n",
    "out_s = open(output_filepath, 'wb')\n",
    "pickle.dump(flat_quant_detect_recipe_dataset,out_s,protocol=2)\n",
    "out_s.close()"
   ]
  },
  {
   "cell_type": "code",
   "execution_count": 20,
   "metadata": {
    "collapsed": false
   },
   "outputs": [],
   "source": [
    "output_filepath = os.path.join(\"../datasets\",\"quantity_detection_ingredient_stemmed_dataset.pkl\")\n",
    "out_s = open(output_filepath, 'wb')\n",
    "pickle.dump(flat_quant_detect_ingredient_dataset,out_s,protocol=2)\n",
    "out_s.close()"
   ]
  },
  {
   "cell_type": "code",
   "execution_count": 49,
   "metadata": {
    "collapsed": true
   },
   "outputs": [],
   "source": [
    "def get_top_k_words(word_list,k=20):\n",
    "    word_dict = Counter(word_list)\n",
    "    return sorted(word_dict.iteritems(), key=lambda tup:(-tup[1], tup[0]))[:k]"
   ]
  },
  {
   "cell_type": "code",
   "execution_count": 57,
   "metadata": {
    "collapsed": true
   },
   "outputs": [],
   "source": [
    "flat_ingredients = []\n",
    "for ingredients in ingredients_stemmed:\n",
    "    for ingredient in ingredients:\n",
    "        for word in ingredient:\n",
    "            flat_ingredients.append(word)"
   ]
  },
  {
   "cell_type": "code",
   "execution_count": 44,
   "metadata": {
    "collapsed": true
   },
   "outputs": [
    {
     "name": "stdout",
     "output_type": "stream",
     "text": [
      "[['number', u'g', u'linguic', u'fin'], ['number', u'piment\\xe3', u'vermelh', u'grand'], ['number', u'cebol', u'grand'], ['number', u'colh', u'sop', u'a\\xe7\\xfac']]\n"
     ]
    }
   ],
   "source": [
    "print flat_quantity_detection_dataset[:4]"
   ]
  },
  {
   "cell_type": "code",
   "execution_count": 42,
   "metadata": {
    "collapsed": true
   },
   "outputs": [
    {
     "name": "stdout",
     "output_type": "stream",
     "text": [
      "[[[u'500', u'g', u'linguic', u'fin'], [u'1', u'piment\\xe3', u'vermelh', u'grand'], [u'2', u'cebol', u'grand'], [u'1', u'colh', u'sop', u'a\\xe7\\xfac'], [u'azeit', u'quant', u'bast'], [u'sal', u'piment', u'gost']], [[u'3', u'x\\xedc', u'ch\\xe1', u'sobr', u'arroz'], [u'1', u'embalag', u'requeij\\xe3'], [u'1', u'abobrinh', u'italian', u'ral'], [u'2', u'ovos'], [u'2', u'colh', u'sop', u'azeit'], [u'1', u'cebol', u'pic'], [u'1', u'cenour', u'ral'], [u'sal', u'piment', u'gost'], [u'sals', u'pic', u'gost'], [u'queij', u'parmes\\xe3', u'ral', u'quant', u'bast']], [[u'400g', u'capelett', u'frang'], [u'1/2', u'kg', u'peit', u'frang', u'temper', u'coz', u'desfi'], [u'1/2', u'cebol', u'ral'], [u'1', u'tomat', u'picadinh'], [u'175', u'g', u'crem', u'leit'], [u'375', u'g', u'extrat', u'tomat'], [u'1', u'colherzinh', u'a\\xe7\\xfac', u'1', u'colh', u'sop', u'ras', u'catchup'], [u'1', u'cald', u'galinh'], [u'2', u'colh', u'sop', u'manteig', u'margarin'], [u'queij', u'parmes\\xe3', u'ral', u'polvilh']], [[u'l\\xedngu', u'boi', u'limpas,', u'pel'], [u'1', u'cop', u'vinh', u'branc', u'sec'], [u'2', u'cald', u'carn', u'esfarel'], [u'1', u'cebol', u'm\\xe9d', u'ral'], [u'3', u'dent', u'alho', u'pic', u'fin'], [u'1', u'piment', u'ded', u'moc', u'picada,', u'sement'], [u'folh', u'lour'], [u'1', u'tal', u'sals\\xe3', u'cort', u'pedac', u'pequen'], [u'1', u'colh', u'sop', u'vinagr', u'branc'], [u'1', u'ram', u'alecrim'], [u'6', u'tomat', u'sementes,', u'pic'], [u'1', u'embalag', u'pur', u'tomat'], [u'6', u'cebolinh', u'descasc', u'cort', u'mei'], [u'1', u'piment', u'ded', u'moc', u'm\\xe9dia,', u'sement', u'picada.']], [[u'5', u'colh', u'azeit'], [u'3', u'cebol', u'ral'], [u'2', u'dent', u'alho', u'pic'], [u'2', u'colh', u'vinagr', u'vinh', u'branc'], [u'3', u'colh', u'vinh', u'branc'], [u'250g', u'polp', u'tomat'], [u'4', u'colh', u'catchup'], [u'2', u'colh', u'molh', u'ingl\\xeas'], [u'1', u'ram', u'tomilh', u'(pod', u'usar', u'sec', u'cas', u'encontr', u'fresco)'], [u'1', u'colh', u'mostard', u'escur'], [u'2', u'colh', u'mel'], [u'2', u'colh', u'a\\xe7\\xfac', u'mascav'], [u'piment', u'branc', u'sal', u'gost'], [u'1/2', u'colh', u'p\\xe1pric', u'picant'], [u'2', u'colh', u'amid', u'milh']]]\n",
      "[[['number', u'g', u'linguic', u'fin'], ['number', u'piment\\xe3', u'vermelh', u'grand'], ['number', u'cebol', u'grand'], ['number', u'colh', u'sop', u'a\\xe7\\xfac'], [u'azeit', u'quant', u'bast'], [u'sal', u'piment', u'gost']], [['number', u'x\\xedc', u'ch\\xe1', u'sobr', u'arroz'], ['number', u'embalag', u'requeij\\xe3'], ['number', u'abobrinh', u'italian', u'ral'], ['number', u'ovos'], ['number', u'colh', u'sop', u'azeit'], ['number', u'cebol', u'pic'], ['number', u'cenour', u'ral'], [u'sal', u'piment', u'gost'], [u'sals', u'pic', u'gost'], [u'queij', u'parmes\\xe3', u'ral', u'quant', u'bast']], [['number', u'capelett', u'frang'], ['number', u'kg', u'peit', u'frang', u'temper', u'coz', u'desfi'], ['number', u'cebol', u'ral'], ['number', u'tomat', u'picadinh'], ['number', u'g', u'crem', u'leit'], ['number', u'g', u'extrat', u'tomat'], ['number', u'colherzinh', u'a\\xe7\\xfac', 'number', u'colh', u'sop', u'ras', u'catchup'], ['number', u'cald', u'galinh'], ['number', u'colh', u'sop', u'manteig', u'margarin'], [u'queij', u'parmes\\xe3', u'ral', u'polvilh']], [[u'l\\xedngu', u'boi', u'limpas,', u'pel'], ['number', u'cop', u'vinh', u'branc', u'sec'], ['number', u'cald', u'carn', u'esfarel'], ['number', u'cebol', u'm\\xe9d', u'ral'], ['number', u'dent', u'alho', u'pic', u'fin'], ['number', u'piment', u'ded', u'moc', u'picada,', u'sement'], [u'folh', u'lour'], ['number', u'tal', u'sals\\xe3', u'cort', u'pedac', u'pequen'], ['number', u'colh', u'sop', u'vinagr', u'branc'], ['number', u'ram', u'alecrim'], ['number', u'tomat', u'sementes,', u'pic'], ['number', u'embalag', u'pur', u'tomat'], ['number', u'cebolinh', u'descasc', u'cort', u'mei'], ['number', u'piment', u'ded', u'moc', u'm\\xe9dia,', u'sement', u'picada.']], [['number', u'colh', u'azeit'], ['number', u'cebol', u'ral'], ['number', u'dent', u'alho', u'pic'], ['number', u'colh', u'vinagr', u'vinh', u'branc'], ['number', u'colh', u'vinh', u'branc'], ['number', u'polp', u'tomat'], ['number', u'colh', u'catchup'], ['number', u'colh', u'molh', u'ingl\\xeas'], ['number', u'ram', u'tomilh', u'(pod', u'usar', u'sec', u'cas', u'encontr', u'fresco)'], ['number', u'colh', u'mostard', u'escur'], ['number', u'colh', u'mel'], ['number', u'colh', u'a\\xe7\\xfac', u'mascav'], [u'piment', u'branc', u'sal', u'gost'], ['number', u'colh', u'p\\xe1pric', u'picant'], ['number', u'colh', u'amid', u'milh']]]\n"
     ]
    }
   ],
   "source": [
    "print ingredients_stemmed[:5]\n",
    "print quantity_detection_dataset[:5]"
   ]
  },
  {
   "cell_type": "code",
   "execution_count": 23,
   "metadata": {
    "collapsed": false
   },
   "outputs": [
    {
     "name": "stdout",
     "output_type": "stream",
     "text": [
      "[(u'1', 2548), (u'colh', 1311), (u'2', 1136), (u'x\\xedc', 847), (u'pic', 780), (u'sal', 645), (u'1/2', 561), (u'gost', 497), (u'sop', 495), (u'(sopa)', 461), (u'cebol', 444), (u'leit', 442), (u'(ch\\xe1)', 434), (u'3', 411), (u'-', 397), (u'piment', 331), (u'gram', 318), (u'tomat', 306), (u'4', 297), (u'alho', 296)]\n"
     ]
    }
   ],
   "source": [
    "print get_top_k_words(flat_ingredients,20)"
   ]
  },
  {
   "cell_type": "code",
   "execution_count": 155,
   "metadata": {
    "collapsed": true
   },
   "outputs": [],
   "source": [
    "def window(seq, n=2):\n",
    "    it = iter(seq)\n",
    "    result = tuple(islice(it, n))\n",
    "    if len(result) == n:\n",
    "        yield result    \n",
    "    for elem in it:\n",
    "        result = result[1:] + (elem,)\n",
    "        yield result"
   ]
  },
  {
   "cell_type": "code",
   "execution_count": 177,
   "metadata": {
    "collapsed": true
   },
   "outputs": [],
   "source": [
    "def is_triple_new_ingredient(lst):\n",
    "    a,b,c = lst\n",
    "    if not a and b and not c:\n",
    "        return True\n",
    "    else:\n",
    "        return False"
   ]
  },
  {
   "cell_type": "code",
   "execution_count": 205,
   "metadata": {
    "collapsed": true
   },
   "outputs": [
    {
     "name": "stdout",
     "output_type": "stream",
     "text": [
      "shopping list [[[u'1/2'], [], []], [[u'1'], [], [], []], [[u'3'], [], [], [], []], [[u'1'], [], [], []], [[u'3'], []], [[]]]\n",
      "ingredients [[u'1/2'], [], []]\n",
      "ingredients [[u'1'], [], [], []]\n",
      "ingredients [[u'3'], [], [], [], []]\n",
      "ingredients [[u'1'], [], [], []]\n",
      "ingredients [[u'3'], []]\n",
      "ingredients [[]]\n",
      "shopping list [[[u'4'], [], [], []], [[u'4'], [], [], [], []], [[u'1'], [], [], [], []], [[u'1'], [], [], []], [[u'1'], [], [], [], [], [], []], [[u'1/2'], [], [], []], [[u'3'], [], [], [], [], []], [[u'1'], []], [[u'1'], [], [], [], []], [[u'1/2'], [], [], []]]\n",
      "ingredients [[u'4'], [], [], []]\n",
      "ingredients [[u'4'], [], [], [], []]\n",
      "ingredients [[u'1'], [], [], [], []]\n",
      "ingredients [[u'1'], [], [], []]\n",
      "ingredients [[u'1'], [], [], [], [], [], []]\n",
      "ingredients [[u'1/2'], [], [], []]\n",
      "ingredients [[u'3'], [], [], [], [], []]\n",
      "ingredients [[u'1'], []]\n",
      "ingredients [[u'1'], [], [], [], []]\n",
      "ingredients [[u'1/2'], [], [], []]\n",
      "shopping list [[[u'2'], [], []], [[u'1'], [], [], []], [[u'2'], []], [[u'3'], [], [], [], []], [[u'100'], [], [], []], [[u'100'], [], [], []], [[u'3'], [], [], [], [], [], [u'1'], [], [], []]]\n",
      "ingredients [[u'2'], [], []]\n",
      "ingredients [[u'1'], [], [], []]\n",
      "ingredients [[u'2'], []]\n",
      "ingredients [[u'3'], [], [], [], []]\n",
      "ingredients [[u'100'], [], [], []]\n",
      "ingredients [[u'100'], [], [], []]\n",
      "ingredients [[u'3'], [], [], [], [], [], [u'1'], [], [], []]\n",
      "adding new element to a list [[u'1'], [], [], []]\n",
      "ingredients [[u'1'], [], [], []]\n",
      "shopping list [[[u'1'], [], [], [], [], []], [[u'1'], [], [], []], [[u'1'], [], [], [], [], [], []], [[u'3'], []]]\n",
      "ingredients [[u'1'], [], [], [], [], []]\n",
      "ingredients [[u'1'], [], [], []]\n",
      "ingredients [[u'1'], [], [], [], [], [], []]\n",
      "ingredients [[u'3'], []]\n",
      "shopping list [[[u'1/2'], [], [], []], [[u'1'], [], [], []], [[u'1'], [], [], []], [[u'1'], [], [], []], [[u'1'], [], []], [[u'2'], [], [], []], [[u'1/2'], [], [], []], [[u'1'], [], [], []], [[u'3'], [], [], [], []], [[u'1'], [], []], [[u'1'], [], [], []], [[]], [[]], [[]]]\n",
      "ingredients [[u'1/2'], [], [], []]\n",
      "ingredients [[u'1'], [], [], []]\n",
      "ingredients [[u'1'], [], [], []]\n",
      "ingredients [[u'1'], [], [], []]\n",
      "ingredients [[u'1'], [], []]\n",
      "ingredients [[u'2'], [], [], []]\n",
      "ingredients [[u'1/2'], [], [], []]\n",
      "ingredients [[u'1'], [], [], []]\n",
      "ingredients [[u'3'], [], [], [], []]\n",
      "ingredients [[u'1'], [], []]\n",
      "ingredients [[u'1'], [], [], []]\n",
      "ingredients [[]]\n",
      "ingredients [[]]\n",
      "ingredients [[]]\n",
      "shopping list [[[], [u'1'], [], [], []], [[], [u'80'], [], [], []], [[], [u'80'], [], []], [[], [u'1'], []], [[], [u'1'], [], [], [], []], [[], [u'2'], [], [], [], [], [], []], [[], [u'1'], [], [], []], [[], [], []]]\n",
      "ingredients [[], [u'1'], [], [], []]\n",
      "adding new element to a list [[u'1'], [], [], []]\n",
      "ingredients [[], [u'80'], [], [], []]\n",
      "adding new element to a list [[u'80'], [], [], []]\n",
      "ingredients [[], [u'80'], [], []]\n",
      "adding new element to a list [[u'80'], [], []]\n",
      "ingredients [[], [u'1'], []]\n",
      "adding new element to a list [[u'1'], []]\n",
      "ingredients [[], [u'1'], [], [], [], []]\n",
      "adding new element to a list [[u'1'], [], [], [], []]\n",
      "ingredients [[], [u'2'], [], [], [], [], [], []]\n",
      "adding new element to a list [[u'2'], [], [], [], [], [], []]\n",
      "ingredients [[], [u'1'], [], [], []]\n",
      "adding new element to a list [[u'1'], [], [], []]\n",
      "ingredients [[], [], []]\n",
      "ingredients [[u'1'], [], [], []]\n",
      "ingredients [[u'80'], [], [], []]\n",
      "ingredients [[u'80'], [], []]\n",
      "ingredients [[u'1'], []]\n",
      "ingredients [[u'1'], [], [], [], []]\n",
      "ingredients [[u'2'], [], [], [], [], [], []]\n",
      "ingredients [[u'1'], [], [], []]\n",
      "shopping list [[[u'1'], [], [u'2'], [u'3'], []], [[u'6'], [], [], [], []], [[u'3'], [], []], [[], [], [], [], []], [[], [], []], [[u'6'], [], [], []], [[], [], [], [], []]]\n",
      "ingredients [[u'1'], [], [u'2'], [u'3'], []]\n",
      "ingredients [[u'6'], [], [], [], []]\n",
      "ingredients [[u'3'], [], []]\n",
      "ingredients [[], [], [], [], []]\n",
      "ingredients [[], [], []]\n",
      "ingredients [[u'6'], [], [], []]\n",
      "ingredients [[], [], [], [], []]\n",
      "shopping list [[[u'1'], [], [], [], [], []], [[u'1'], [], [], [], []], [[u'3'], [], [], [], []], [[u'1/2'], [], [], [], [], [], [], []], [[u'2'], [], [], []], [[u'1'], [], [], []], [[u'1/2'], [], [], []], [[u'2'], [], [], [], [], [], []]]\n",
      "ingredients [[u'1'], [], [], [], [], []]\n",
      "ingredients [[u'1'], [], [], [], []]\n",
      "ingredients [[u'3'], [], [], [], []]\n",
      "ingredients [[u'1/2'], [], [], [], [], [], [], []]\n",
      "ingredients [[u'2'], [], [], []]\n",
      "ingredients [[u'1'], [], [], []]\n",
      "ingredients [[u'1/2'], [], [], []]\n",
      "ingredients [[u'2'], [], [], [], [], [], []]\n",
      "shopping list [[[u'4'], [], [], [], []], [[u'6'], [], []], [[u'1'], [], [], []], [[u'6'], [], [], []], [[u'300'], [], [], [], []], [[u'1'], [], []]]\n",
      "ingredients [[u'4'], [], [], [], []]\n",
      "ingredients [[u'6'], [], []]\n",
      "ingredients [[u'1'], [], [], []]\n",
      "ingredients [[u'6'], [], [], []]\n",
      "ingredients [[u'300'], [], [], [], []]\n",
      "ingredients [[u'1'], [], []]\n",
      "shopping list [[[u'3'], [], [], [], []], [[u'1'], [], [], []], [[u'1/2'], [], [], []], [[u'1/4'], [], [], []], [[]], [[], [], [], []], [[]], [[]], [[], []], [[]]]\n",
      "ingredients [[u'3'], [], [], [], []]\n",
      "ingredients [[u'1'], [], [], []]\n",
      "ingredients [[u'1/2'], [], [], []]\n",
      "ingredients [[u'1/4'], [], [], []]\n",
      "ingredients [[]]\n",
      "ingredients [[], [], [], []]\n",
      "ingredients [[]]\n",
      "ingredients [[]]\n",
      "ingredients [[], []]\n",
      "ingredients [[]]\n"
     ]
    }
   ],
   "source": [
    "ingredients_quantity_sample = copy(ingredients_quantity)\n",
    "shuffle(ingredients_quantity_sample)\n",
    "ingredients_quantity_sample=ingredients_quantity_sample[:10]\n",
    "ingredients_quantity_cleaned =[]\n",
    "for recipe_shopping_list in ingredients_quantity_sample:\n",
    "    print \"shopping list\",recipe_shopping_list\n",
    "    recipe_shopping_list_cleaned = []\n",
    "    for ingredients in recipe_shopping_list:azq\n",
    "        print \"ingredients\",ingredients\n",
    "        ingredients_cleaned = []\n",
    "        for triple in window(range(len(ingredients)), n=3): \n",
    "            triple_values =  itemgetter(*triple)(ingredients)\n",
    "            if is_triple_new_ingredient(triple_values):\n",
    "                print \"adding new element to a list\",ingredients[triple[1]:]\n",
    "                recipe_shopping_list.append(ingredients[triple[1]:])"
   ]
  },
  {
   "cell_type": "code",
   "execution_count": null,
   "metadata": {
    "collapsed": true
   },
   "outputs": [],
   "source": []
  }
 ],
 "metadata": {
  "kernelspec": {
   "display_name": "Python 2",
   "language": "python",
   "name": "python2"
  },
  "language_info": {
   "codemirror_mode": {
    "name": "ipython",
    "version": 2
   },
   "file_extension": ".py",
   "mimetype": "text/x-python",
   "name": "python",
   "nbconvert_exporter": "python",
   "pygments_lexer": "ipython2",
   "version": "2.7.11"
  }
 },
 "nbformat": 4,
 "nbformat_minor": 0
}
