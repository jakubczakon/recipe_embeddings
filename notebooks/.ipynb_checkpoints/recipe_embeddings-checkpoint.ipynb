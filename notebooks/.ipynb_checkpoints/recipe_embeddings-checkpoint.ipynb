{
 "cells": [
  {
   "cell_type": "markdown",
   "metadata": {},
   "source": [
    "### Embeddings taken from keras examples"
   ]
  },
  {
   "cell_type": "code",
   "execution_count": 1,
   "metadata": {
    "collapsed": false
   },
   "outputs": [
    {
     "name": "stderr",
     "output_type": "stream",
     "text": [
      "Using Theano backend.\n"
     ]
    }
   ],
   "source": [
    "# -*- coding: utf-8 -*-\n",
    "\n",
    "%load_ext autoreload\n",
    "%matplotlib inline\n",
    "%autoreload 2\n",
    "\n",
    "from __future__ import absolute_import\n",
    "\n",
    "import os\n",
    "# os.environ[\"THEANO_FLAGS\"] = \"mode=FAST_RUN,optimizer=fast_compile,device=gpu0,floatX=float32\"\n",
    "\n",
    "import sys\n",
    "sys.path.insert(0, '../')\n",
    "\n",
    "import numpy as np\n",
    "import theano\n",
    "import theano.tensor as T\n",
    "import six.moves.cPickle as pickle\n",
    "import os, re, json\n",
    "import itertools\n",
    "\n",
    "from sklearn.feature_extraction.text import TfidfVectorizer\n",
    "\n",
    "from keras.preprocessing import sequence, text\n",
    "from keras.optimizers import SGD, RMSprop, Adagrad\n",
    "from keras.utils import np_utils, generic_utils\n",
    "from keras.models import Sequential\n",
    "from keras.layers.core import Layer,Merge,Reshape,Dense,Dropout\n",
    "from keras.layers.embeddings import Embedding\n",
    "from keras import activations, initializations\n",
    "from six.moves import range\n",
    "from six.moves import zip\n",
    "\n",
    "from utils_pack.utils import pickle_in,pickle_out\n",
    "from utils_pack.word_embeddings_utils import NearestFood\n",
    "\n",
    "from ipywidgets import interact\n",
    "# from .utils_pack.utils import ensure_dir"
   ]
  },
  {
   "cell_type": "markdown",
   "metadata": {},
   "source": [
    "### Load model dict"
   ]
  },
  {
   "cell_type": "code",
   "execution_count": 2,
   "metadata": {
    "collapsed": false
   },
   "outputs": [],
   "source": [
    "word_embedding_dict = pickle_in(os.path.join(\"../models\",\n",
    "                                             \"food_terms_embedding_models\",\n",
    "                                             \"model_1\",\n",
    "                                             \"word_embedding_dict.pkl\"))"
   ]
  },
  {
   "cell_type": "markdown",
   "metadata": {},
   "source": [
    "### Load data"
   ]
  },
  {
   "cell_type": "code",
   "execution_count": 3,
   "metadata": {
    "collapsed": true
   },
   "outputs": [],
   "source": [
    "full_dataset_dict = pickle_in(os.path.join(\"../\",\"datasets\",\"full_dataset_dict.pkl\"))\n",
    "full_dataset_list = pickle_in(os.path.join(\"../\",\"datasets\",\"full_dataset_list.pkl\"))"
   ]
  },
  {
   "cell_type": "markdown",
   "metadata": {},
   "source": [
    "### Calculate TF-IDF for ingredients"
   ]
  },
  {
   "cell_type": "code",
   "execution_count": 4,
   "metadata": {
    "collapsed": false
   },
   "outputs": [],
   "source": [
    "titles,token_titles,recipies,ingredients = zip(*full_dataset_list)\n",
    "\n",
    "titles = [t[0].encode(\"utf-8\")  for t in titles]\n",
    "ingredients_flat=list(itertools.chain.from_iterable(ingredients))\n",
    "ingredients_flat=list(itertools.chain.from_iterable(ingredients_flat))\n",
    "ingredients_flat = [word.encode(\"utf-8\") for word in ingredients_flat]\n",
    "ingredients_unique = list(set(ingredients_flat))\n",
    "\n",
    "wordcount={}\n",
    "for word in ingredients_flat:\n",
    "    if word not in wordcount:\n",
    "        wordcount[word] = 1\n",
    "    else:\n",
    "        wordcount[word] += 1\n",
    "\n",
    "ingredients_tf_idf={}\n",
    "for word in ingredients_unique:\n",
    "    ingredients_tf_idf[word]=1.0*wordcount[word]/len(ingredients_flat)\n",
    "\n",
    "pickle_out(os.path.join(\"../models\",\n",
    "                         \"food_terms_embedding_models\",\n",
    "                         \"model_1\",\n",
    "                         \"tf_idf_dict.pkl\"),ingredients_tf_idf)"
   ]
  },
  {
   "cell_type": "markdown",
   "metadata": {},
   "source": [
    "## Calculate model flavours"
   ]
  },
  {
   "cell_type": "markdown",
   "metadata": {},
   "source": [
    "### Simple vector mean\n",
    "Recipe vector is just the simple average of word vectors"
   ]
  },
  {
   "cell_type": "code",
   "execution_count": 5,
   "metadata": {
    "collapsed": false
   },
   "outputs": [],
   "source": [
    "recipe_vectors={}\n",
    "for key,values in full_dataset_dict.iteritems():\n",
    "\n",
    "    ingredients = values[\"ingredient\"]\n",
    "    ingredients = [item.encode(\"utf-8\") for sublist in ingredients for item in sublist]\n",
    "    recipe_vector=[]\n",
    "    for ingredient in ingredients:\n",
    "        try:\n",
    "            token_vector = word_embedding_dict[ingredient]\n",
    "        except KeyError:\n",
    "            continue\n",
    "        recipe_vector.append(token_vector)\n",
    "           \n",
    "    recipe_vector = np.array(recipe_vector)\n",
    "    recipe_vector = np.mean(recipe_vector,axis=0)\n",
    "    recipe_vectors[key] = recipe_vector\n",
    "pickle_out(os.path.join(\"../models\",\n",
    "                         \"food_terms_embedding_models\",\n",
    "                         \"model_1\",\"recipe_embeddings_simple_mean_on_ingredients.pkl\"\n",
    "                       ),recipe_vectors)\n",
    "\n",
    "NF = NearestFood()\n",
    "NF.add_data(full_dataset_dict,recipe_vectors)\n",
    "\n",
    "pickle_out(os.path.join(\"../models\",\n",
    "                         \"food_terms_embedding_models\",\n",
    "                         \"model_1\",\"search_class_recipe_embeddings_simple_mean_on_ingredients.pkl\"\n",
    "                       ),NF)"
   ]
  },
  {
   "cell_type": "markdown",
   "metadata": {},
   "source": [
    "### TF-IDF vector mean\n",
    "Recipe vector is a TF-IDF weighted mean with TF-IDF calculated from ingredients alone"
   ]
  },
  {
   "cell_type": "code",
   "execution_count": 6,
   "metadata": {
    "collapsed": false
   },
   "outputs": [],
   "source": [
    "recipe_vectors={}\n",
    "for key,values in full_dataset_dict.iteritems():\n",
    "\n",
    "    ingredients = values[\"ingredient\"]\n",
    "    ingredients = [item.encode(\"utf-8\") for sublist in ingredients for item in sublist]\n",
    "    recipe_vector=[]\n",
    "    tf_idf_values =[]\n",
    "    for ingredient in ingredients:\n",
    "        try:\n",
    "            token_vector = word_embedding_dict[ingredient]\n",
    "            tf_idf_value = ingredients_tf_idf[ingredient]\n",
    "        except KeyError:\n",
    "            continue\n",
    "        recipe_vector.append(token_vector)\n",
    "        tf_idf_values.append(tf_idf_value)\n",
    "        \n",
    "    recipe_vector = np.array(recipe_vector)\n",
    "    tf_idf_values = np.array(tf_idf_values).reshape(-1,1)\n",
    "    recipe_vector = recipe_vector*tf_idf_values\n",
    "    recipe_vector = np.mean(recipe_vector,axis=0)\n",
    "    recipe_vectors[key] = recipe_vector\n",
    "pickle_out(os.path.join(\"../models\",\n",
    "                         \"food_terms_embedding_models\",\n",
    "                         \"model_1\",\"recipe_embeddings_tf_idf_mean_on_ingredients.pkl\"\n",
    "                       ),recipe_vectors)\n",
    "\n",
    "NF = NearestFood()\n",
    "NF.add_data(full_dataset_dict,recipe_vectors)\n",
    "\n",
    "pickle_out(os.path.join(\"../models\",\n",
    "                         \"food_terms_embedding_models\",\n",
    "                         \"model_1\",\"search_class_recipe_embeddings_tf_idf_mean_on_ingredients.pkl\"\n",
    "                       ),NF)"
   ]
  },
  {
   "cell_type": "code",
   "execution_count": null,
   "metadata": {
    "collapsed": true
   },
   "outputs": [],
   "source": []
  }
 ],
 "metadata": {
  "kernelspec": {
   "display_name": "Python 2",
   "language": "python",
   "name": "python2"
  },
  "language_info": {
   "codemirror_mode": {
    "name": "ipython",
    "version": 2
   },
   "file_extension": ".py",
   "mimetype": "text/x-python",
   "name": "python",
   "nbconvert_exporter": "python",
   "pygments_lexer": "ipython2",
   "version": "2.7.11"
  }
 },
 "nbformat": 4,
 "nbformat_minor": 0
}
