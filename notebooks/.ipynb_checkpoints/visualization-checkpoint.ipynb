{
 "cells": [
  {
   "cell_type": "code",
   "execution_count": null,
   "metadata": {
    "collapsed": false
   },
   "outputs": [],
   "source": [
    "# -*- coding: utf-8 -*-\n",
    "\n",
    "import os\n",
    "import sys\n",
    "sys.path.insert(0, '../')\n",
    "import json\n",
    "\n",
    "from ipywidgets import interact\n",
    "\n",
    "from ggplot import *\n",
    "\n",
    "from sklearn.manifold import TSNE\n",
    "\n",
    "from utils_pack.utils import pickle_in,pickle_out"
   ]
  },
  {
   "cell_type": "code",
   "execution_count": null,
   "metadata": {
    "collapsed": false
   },
   "outputs": [],
   "source": [
    "simple_mean_on_ingredients_model = pickle_in(os.path.join(\"../models\",\n",
    "                                                          \"food_terms_embedding_models\",\n",
    "                                                          \"model_1\",\n",
    "                                                          \"recipe_embeddings_simple_mean_on_ingredients.pkl\")\n",
    "                                            )\n",
    "simple_mean_on_ingredients_NF = pickle_in(os.path.join(\"../models\",\n",
    "                                                          \"food_terms_embedding_models\",\n",
    "                                                          \"model_1\",\n",
    "                                                          \"recipe_embeddings_simple_mean_on_ingredients.pkl\")\n",
    "                                            )\n",
    "\n",
    "tf_idf_mean_on_ingredients_model = pickle_in(os.path.join(\"../models\",\n",
    "                                                          \"food_terms_embedding_models\",\n",
    "                                                          \"model_1\",\n",
    "                                                          \"recipe_embeddings_tf_idf_mean_on_ingredients.pkl\")\n",
    "                                            )\n",
    "tf_idf_mean_on_ingredients_NF = pickle_in(os.path.join(\"../models\",\n",
    "                                                          \"food_terms_embedding_models\",\n",
    "                                                          \"model_1\",\n",
    "                                                          \"recipe_embeddings_tf_idf_mean_on_ingredients.pkl\")\n",
    "                                            )"
   ]
  },
  {
   "cell_type": "code",
   "execution_count": 10,
   "metadata": {
    "collapsed": false
   },
   "outputs": [
    {
     "name": "stdout",
     "output_type": "stream",
     "text": [
      "Search query:Parafuso Isabela com Frango e Legumes\n",
      "- 1 embalag\n",
      "- ½ kg fil frango, tirinh\n",
      "- 4 colh (sopa) vinagr balsâm\n",
      "- 2 colh (sopa) óle canol soj\n",
      "- 4 dent alho, pic\n",
      "- 10 tomat maduros, pel sementes, pic\n",
      "- 2 folh lour\n",
      "- 2 xíc (chá) min cenour\n",
      "- 5 buquês brócol\n",
      "- 1 abobrinh média, cub\n",
      "- 50g queij parmesã light, ral\n",
      "- sal gost\n",
      "\n",
      "Close recipes:\n",
      "  Molho de Casca de Berinjela with distance 0.165836868243\n",
      "   -2 cop (americanos) casc 3 berinjel cub pequen\n",
      "   -4 tomat coz casc peneir 6 colh (sopa) polp tomat\n",
      "   -2 dent alho pic\n",
      "   -1 cebol pequen pic\n",
      "   -3 colh (sopa) óle\n",
      "   -1 ½ cop (americano) águ\n",
      "   -sal piment gost\n",
      "   -1 colh (chá) orégan\n",
      "  Bife de Porco à Marguerita with distance 0.165889753011\n",
      "   -4 bif grand carn porc\n",
      "   -4 colh (sopa) farinh trig\n",
      "   -1 ovo bat 2 colh (sopa) leit\n",
      "   -sal piment rein gost\n",
      "   -1/2 xíc (chá) farinh rosc\n",
      "   -óle frit\n",
      "   -1 xíc (chá) queij mussarel ral polvilhar.\n",
      "   -1 colh (sopa) azeit\n",
      "   -1 cebol pic\n",
      "   -1 dent alho pic\n",
      "   -4 tomat madur pic\n",
      "   -sal piment rein manjericã fresc pic gost\n",
      "  Arroz na forma com parmesão with distance 0.170345705624\n",
      "   -2 xíc (chá) arroz lav\n",
      "   -4 xíc (chá) águ fervent\n",
      "   -1 cebol pequen pic\n",
      "   -2 tomat\n",
      "   -cheiro-verd gost\n",
      "   -2 colh (sopa) manteig margarin\n",
      "   -5 colh (sopa) queij parmesã ral\n",
      "   -2 ovos inteir\n",
      "   -sal gost\n",
      "  Strogonoff de Berinjela with distance 0.175714983481\n",
      "   -1 colh (chá) margarin light\n",
      "   -1 cebol méd pic\n",
      "   -2 berinjel méd cort cub\n",
      "   -3 tomat pel sementes, bem pic\n",
      "   -½ xíc (chá) cogumel conserva, pic\n",
      "   -1 colh (sopa) mostard\n",
      "   -2 colh (sopa) catchup\n",
      "   -1 colh (chá) molh inglês\n",
      "   -4 colh (sopa) leit desnat\n",
      "   -sal gost\n",
      "   -salsinh pic gost\n",
      "   -1 pacot macarrã trig integral tip espaguet (500 g).\n"
     ]
    }
   ],
   "source": [
    "def present_results(index):\n",
    "    index = int(index)\n",
    "    ttl,ingr = ingredients[index]\n",
    "    print \"Search query:%s\"%ttl[0]\n",
    "    for ing in ingr:\n",
    "        print \"- %s\"%\" \".join(ing)\n",
    "    print\n",
    "    NF.get_closest_recipes(recipe_title = ttl[0],k=5)\n",
    "        \n",
    "interact(present_results,index=\"1\")"
   ]
  },
  {
   "cell_type": "code",
   "execution_count": null,
   "metadata": {
    "collapsed": true
   },
   "outputs": [],
   "source": [
    "recipe_vectors = []"
   ]
  },
  {
   "cell_type": "code",
   "execution_count": null,
   "metadata": {
    "collapsed": true
   },
   "outputs": [],
   "source": [
    "TSNE_model = TSNE(n_components=2, random_state=0)\n",
    "np.set_printoptions(suppress=True)\n",
    "predict_after_tsne = TSNE_model.fit_transform(recipe_vectors)"
   ]
  },
  {
   "cell_type": "code",
   "execution_count": null,
   "metadata": {
    "collapsed": true
   },
   "outputs": [],
   "source": [
    "data_for_plot_tsne = pd.DataFrame(dict(x_tsne=predict_after_tsne[:,1],\n",
    "                                       y_tsne=predict_after_tsne[:,0],\n",
    "                                        recipe_name=titles))"
   ]
  },
  {
   "cell_type": "code",
   "execution_count": null,
   "metadata": {
    "collapsed": true
   },
   "outputs": [],
   "source": [
    "data_for_plot_tsne_sample = data_for_plot_tsne.sample(10)\n",
    "x_min = np.min(data_for_plot_tsne_sample['x_tsne'])\n",
    "x_max = np.max(data_for_plot_tsne_sample['x_tsne'])\n",
    "y_min = np.min(data_for_plot_tsne_sample['y_tsne'])\n",
    "y_max = np.max(data_for_plot_tsne_sample['y_tsne'])\n",
    "\n",
    "ggplot(aes(x='x_tsne', y='y_tsne'),data = data_for_plot_tsne_sample)+\\\n",
    "geom_point(color=\"red\")+geom_text(aes(label='recipe_name'),size =8)+\\\n",
    "xlim(x_min,x_max)+ylim(y_min,y_max)"
   ]
  }
 ],
 "metadata": {
  "kernelspec": {
   "display_name": "Python 2",
   "language": "python",
   "name": "python2"
  },
  "language_info": {
   "codemirror_mode": {
    "name": "ipython",
    "version": 2
   },
   "file_extension": ".py",
   "mimetype": "text/x-python",
   "name": "python",
   "nbconvert_exporter": "python",
   "pygments_lexer": "ipython2",
   "version": "2.7.11"
  }
 },
 "nbformat": 4,
 "nbformat_minor": 0
}
