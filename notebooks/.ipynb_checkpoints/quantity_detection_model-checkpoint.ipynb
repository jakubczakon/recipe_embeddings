{
 "cells": [
  {
   "cell_type": "code",
   "execution_count": 1,
   "metadata": {
    "collapsed": false
   },
   "outputs": [],
   "source": [
    "%load_ext autoreload\n",
    "%autoreload 2\n",
    "\n",
    "import sys\n",
    "sys.path.insert(0, '../')\n",
    "\n",
    "import cPickle as pickle\n",
    "\n",
    "import os\n",
    "import json\n",
    "from copy import copy\n",
    "\n",
    "from itertools import groupby,chain,tee,izip,islice\n",
    "from collections import Iterable,Counter\n",
    "from operator import itemgetter \n",
    "\n",
    "import numpy as np\n",
    "from random import shuffle\n",
    "\n",
    "import re\n",
    "\n",
    "import nltk\n",
    "from nltk.stem import RSLPStemmer,SnowballStemmer\n",
    "from nltk import PunktSentenceTokenizer,FreqDist\n",
    "from nltk.corpus import stopwords\n",
    "from nltk import UnigramTagger,BigramTagger\n",
    "\n",
    "import gensim\n",
    "from gensim.models import Word2Vec,Phrases\n",
    "\n",
    "from glove import Glove,Corpus\n",
    "from word_embeddings_utils import GloveExtended\n",
    "\n",
    "import nlpnet"
   ]
  },
  {
   "cell_type": "code",
   "execution_count": 2,
   "metadata": {
    "collapsed": true
   },
   "outputs": [],
   "source": [
    "recipes_input_filepath = os.path.join(\"../datasets\",\"quantity_detection_recipe_dataset.pkl\")\n",
    "in_s = open(recipes_input_filepath, 'rb')\n",
    "dataset_recipes = pickle.load(in_s)\n",
    "\n",
    "ingredients_input_filepath = os.path.join(\"../datasets\",\"quantity_detection_ingredient_dataset.pkl\")\n",
    "in_s = open(ingredients_input_filepath, 'rb')\n",
    "dataset_ingredients = pickle.load(in_s)"
   ]
  },
  {
   "cell_type": "code",
   "execution_count": 3,
   "metadata": {
    "collapsed": false
   },
   "outputs": [
    {
     "name": "stdout",
     "output_type": "stream",
     "text": [
      "5244 [u'Coloque', u'o', u'piment\\xe3o', u'lavado', u'sobre', u'a', u'boca', u'do', u'fog\\xe3o', u'e', u'deixe', u'a', u'casca', u'queimar', u'bem.']\n",
      "7895 [['number', u'g', u'lingui\\xe7a', u'fina'], ['number', u'piment\\xe3o', u'vermelho', u'grande'], ['number', u'cebolas', u'grandes'], ['number', u'colher', u'de', u'sopa', u'de', u'a\\xe7\\xfacar'], ['number', u'Azeite', u'o', u'quanto', u'baste']]\n"
     ]
    }
   ],
   "source": [
    "print len(dataset_recipes),dataset_recipes[:5][0]\n",
    "print len(dataset_ingredients),dataset_ingredients[:5]"
   ]
  },
  {
   "cell_type": "code",
   "execution_count": 21,
   "metadata": {
    "collapsed": true
   },
   "outputs": [],
   "source": [
    "ingredients_super_flat = [word for sentence in dataset_ingredients for word in sentence]\n",
    "BigramModel = Phrases(ingredients_super_flat)\n",
    "ingredients_bigrams = list(BigramModel[dataset_ingredients])"
   ]
  },
  {
   "cell_type": "code",
   "execution_count": null,
   "metadata": {
    "collapsed": true
   },
   "outputs": [],
   "source": [
    "bigram_counter = Counter()\n",
    "for key in BigramModel.vocab.keys():\n",
    "    if len(key.split(\"_\")) > 1:\n",
    "        bigram_counter[key] += BigramModel.vocab[key]\n",
    " \n",
    "for key, counts in bigram_counter.most_common(20):\n",
    "    print '{0: <20} {1}'.format(key.encode(\"utf-8\"), counts)"
   ]
  },
  {
   "cell_type": "code",
   "execution_count": 23,
   "metadata": {
    "collapsed": true
   },
   "outputs": [
    {
     "name": "stdout",
     "output_type": "stream",
     "text": [
      "[[u'number', u'g', u'lingui\\xe7a', u'fina'], [u'number', u'piment\\xe3o', u'vermelho', u'grande'], [u'number', u'cebolas', u'grandes'], [u'number', u'colher', u'de', u'sopa', u'de', u'a\\xe7\\xfacar'], [u'number', u'Azeite', u'o', u'quanto', u'baste'], [u'number', u'Sal', u'e', u'pimenta', u'a', u'gosto'], [u'number', u'x\\xedcaras', u'de', u'ch\\xe1', u'de', u'sobras', u'de', u'arroz'], [u'number', u'embalagem', u'de', u'requeij\\xe3o'], [u'number', u'abobrinha', u'italiana', u'ralada'], [u'number', u'ovos'], [u'number', u'colheres', u'de', u'sopa', u'de', u'azeite'], [u'number', u'cebola', u'picada'], [u'number', u'cenoura', u'ralada'], [u'number', u'Sal', u'e', u'pimenta', u'a', u'gosto'], [u'number', u'Salsa', u'picada', u'a', u'gosto'], [u'number', u'Queijo', u'parmes\\xe3o', u'ralado', u'o', u'quanto', u'baste'], [u'number', u'de', u'capeletti', u'de', u'frango'], [u'number', u'kg', u'de', u'peito', u'de', u'frango', u'temperado', u'cozido', u'e', u'desfiado'], [u'number', u'cebola', u'ralada'], [u'number', u'tomate', u'picadinho'], [u'number', u'g', u'de', u'creme', u'de', u'leite'], [u'number', u'g', u'de', u'extrato', u'de', u'tomate'], [u'number', u'colherzinha', u'de', u'a\\xe7\\xfacar', u'ou', u'number', u'colher', u'de', u'sopa', u'rasa', u'de', u'catchup'], [u'number', u'caldo', u'de', u'galinha'], [u'number', u'colheres', u'de', u'sopa', u'de', u'manteiga', u'ou', u'margarina'], [u'number', u'Queijo', u'parmes\\xe3o', u'ralado', u'para', u'polvilhar'], [u'number', u'L\\xednguas', u'de', u'boi', u'j\\xe1', u'limpas,', u'sem', u'a', u'pele'], [u'number', u'copo', u'de', u'vinho', u'branco', u'seco'], [u'number', u'caldos', u'de', u'carne', u'esfarelados'], [u'number', u'cebola', u'm\\xe9dia', u'ralada'], [u'number', u'dentes', u'de', u'alho', u'picados', u'finamente'], [u'number', u'pimenta', u'dedo', u'de', u'mo\\xe7a', u'picada,', u'sem', u'sementes'], [u'number', u'Folhas', u'de', u'louro'], [u'number', u'talo', u'de', u'sals\\xe3o', u'cortado', u'em', u'peda\\xe7os', u'pequenos'], [u'number', u'colher', u'de', u'sopa', u'de', u'vinagre', u'branco'], [u'number', u'ramo', u'de', u'alecrim'], [u'number', u'tomates', u'sem', u'sementes,', u'picados'], [u'number', u'embalagem', u'de', u'pur\\xea', u'de', u'tomate'], [u'number', u'cebolinhas', u'descascadas', u'e', u'cortadas', u'ao', u'meio'], [u'number', u'pimenta', u'dedo', u'de', u'mo\\xe7a', u'm\\xe9dia,', u'sem', u'sementes', u'e', u'picada.'], [u'number', u'colheres', u'de', u'azeite'], [u'number', u'cebolas', u'raladas'], [u'number', u'dentes', u'de', u'alho', u'picado'], [u'number', u'colheres', u'de', u'vinagre', u'de', u'vinho', u'branco'], [u'number', u'colheres', u'de', u'vinho', u'branco'], [u'number', u'de', u'polpa', u'de', u'tomate'], [u'number', u'colheres', u'de', u'catchup'], [u'number', u'colheres', u'de', u'molho', u'ingl\\xeas'], [u'number', u'ramo', u'de', u'tomilho', u'(pode', u'usar', u'o', u'seco', u'caso', u'n\\xe3o', u'encontre', u'fresco)'], [u'number', u'colher', u'de', u'mostarda', u'escura'], [u'number', u'colheres', u'de', u'mel'], [u'number', u'colheres', u'de', u'a\\xe7\\xfacar', u'mascavo'], [u'number', u'Pimenta', u'branca', u'e', u'sal', u'a', u'gosto'], [u'number', u'colher', u'de', u'p\\xe1prica', u'picante'], [u'number', u'colheres', u'de', u'amido', u'de', u'milho'], [u'number', u'batatas-doces', u'number'], [u'number', u'x\\xedcara', u'(ch\\xe1)', u'de', u'leite'], [u'number', u'colher', u'(sopa)', u'de', u'margarina'], [u'number', u'Sal', u'a', u'gosto'], [u'number', u'recheio'], [u'number', u'lata', u'de', u'atum', u'em', u'peda\\xe7os', u'number'], [u'number', u'cebola', u'm\\xe9dia', u'bem', u'picada'], [u'number', u'colher', u'(sopa)', u'de', u'salsinha', u'picada'], [u'number', u'colheres', u'(sopa)', u'de', u'azeitona', u'verde', u'picada'], [u'number', u'Sal', u'e', u'molho', u'de', u'pimenta', u'a', u'gosto'], [u'number', u'x\\xedcara', u'(ch\\xe1)', u'de', u'requeij\\xe3o', u'cremoso', u'number'], [u'number', u'colheres', u'(sopa)', u'de', u'queijo', u'tipo', u'parmes\\xe3o', u'ralado'], [u'number'], [u'number', u'x\\xedcaras', u'(ch\\xe1)', u'de', u'arroz'], [u'number', u'x\\xedcaras', u'(ch\\xe1)', u'de', u'\\xe1gua'], [u'number', u'tabletes', u'de', u'caldo', u'de', u'galinha', u'sem', u'gordura'], [u'number', u'colheres', u'(sopa)', u'de', u'margarina'], [u'number', u'cebola', u'ralada'], [u'number', u'gramas', u'ling\\xfci\\xe7a', u'calabresa', u'defumada'], [u'number', u'x\\xedcara', u'(ch\\xe1)', u'de', u'vinho', u'branco'], [u'number', u'gramas', u'de', u'br\\xf3colis', u'cozido', u'e', u'picado'], [u'number', u'gramas', u'de', u'queijo', u'ralado'], [u'number', u'gramas', u'de', u'mussarela', u'ralada'], [u'number', u'Quanto', u'baste', u'de', u'farinha', u'de', u'rosca', u'para', u'polvilhar'], [u'number', u'colheres', u'de', u'fub\\xe1'], [u'number', u'cubo', u'de', u'caldo', u'de', u'galinha'], [u'number', u'colher', u'de', u'sopa', u'de', u'margarina'], [u'number', u'dentes', u'de', u'alho', u'picadinhos'], [u'number', u'Sal', u'a', u'gosto'], [u'number', u'Salsa', u'picada', u'a', u'gosto'], [u'number', u'Queijo', u'parmes\\xe3o', u'ralado', u'a', u'gosto'], [u'number', u'ml', u'de', u'caldo', u'de', u'carne', u'coado'], [u'number', u'cebola', u'picada'], [u'number', u'e', u'number', u'colheres', u'(sopa)', u'de', u'manteiga'], [u'number', u'colheres', u'(sopa)', u'de', u'farinha', u'de', u'trigo'], [u'number', u'ma\\xe7os', u'grandes', u'de', u'alecrim'], [u'number', u'e', u'number', u'x\\xedcaras', u'(ch\\xe1)', u'de', u'azeite', u'de', u'oliva', u'extra', u'virgem'], [u'number', u'kg', u'de', u'batatas'], [u'number', u'gramas', u'de', u'cenoura'], [u'number', u'ma\\xe7\\xe3s', u'verdes', u'\\xe1cidas'], [u'number', u'talos', u'de', u'sals\\xe3o', u'branco'], [u'number', u'gramas', u'de', u'presunto', u'(ou', u'peito', u'de', u'peru)'], [u'number', u'piment\\xe3o', u'verde', u'e', u'number', u'vermelho'], [u'number', u'gramas', u'de', u'maionese'], [u'number', u'Vinagre,', u'sal,', u'salsa,', u'cebolinha', u'verde,', u'pimenta', u'do', u'reino', u'branca', u'e', u'uma', u'cebola', u'picada']]\n"
     ]
    }
   ],
   "source": [
    "print ingredients_bigrams[:100]"
   ]
  },
  {
   "cell_type": "code",
   "execution_count": 5,
   "metadata": {
    "collapsed": false
   },
   "outputs": [],
   "source": [
    "PosTaggerPt= nlpnet.POSTagger('../../pretrained_models/nlp/pos-pt/', language='pt')"
   ]
  },
  {
   "cell_type": "code",
   "execution_count": 10,
   "metadata": {
    "collapsed": true
   },
   "outputs": [],
   "source": [
    "SRLTaggerPt = nlpnet.SRLTagger('../../pretrained_models/nlp/srl-pt/', language='pt')"
   ]
  },
  {
   "cell_type": "code",
   "execution_count": 9,
   "metadata": {
    "collapsed": false
   },
   "outputs": [
    {
     "name": "stdout",
     "output_type": "stream",
     "text": [
      "Coloque o pimentão lavado sobre a boca do fogão e deixe a casca queimar bem.\n",
      "[[(u'Coloque', u'V'), (u'o', u'ART'), (u'piment\\xe3o', u'N'), (u'lavado', u'PCP'), (u'sobre', u'PREP'), (u'a', u'ART'), (u'boca', u'N'), (u'do', u'PREP+ART'), (u'fog\\xe3o', u'N'), (u'e', u'KC'), (u'deixe', u'V'), (u'a', u'ART'), (u'casca', u'N'), (u'queimar', u'V'), (u'bem', u'ADV'), (u'.', u'PU')]]\n"
     ]
    }
   ],
   "source": [
    "recipe_example = \" \".join(dataset_recipes[:5][0])\n",
    "pos_tagged_recipe_example = PosTaggerPt.tag(recipe_example)\n",
    "print recipe_example\n",
    "print tagged_recipe_example"
   ]
  },
  {
   "cell_type": "code",
   "execution_count": 13,
   "metadata": {
    "collapsed": false
   },
   "outputs": [
    {
     "name": "stdout",
     "output_type": "stream",
     "text": [
      "[(u'Coloque', {u'A1': [u'o', u'piment\\xe3o', u'lavado', u'sobre', u'a', u'boca', u'do', u'fog\\xe3o'], u'V': [u'Coloque']}), (u'deixe', {u'A2': [u'a', u'casca'], u'AM-MNR': [u'queimar', u'bem'], u'V': [u'deixe']}), (u'queimar', {u'AM-MNR': [u'bem'], u'V': [u'queimar']})]\n"
     ]
    }
   ],
   "source": [
    "sent = SRLTaggerPt.tag(recipe_example)[0]\n",
    "print sent.arg_structures"
   ]
  },
  {
   "cell_type": "code",
   "execution_count": 111,
   "metadata": {
    "collapsed": true
   },
   "outputs": [],
   "source": [
    "dataset = dataset_ingredients+dataset_recipes"
   ]
  },
  {
   "cell_type": "code",
   "execution_count": 112,
   "metadata": {
    "collapsed": true
   },
   "outputs": [],
   "source": [
    "corpus_quantity = Corpus() \n",
    "corpus_quantity.fit(dataset, window=1)"
   ]
  },
  {
   "cell_type": "code",
   "execution_count": 113,
   "metadata": {
    "collapsed": false
   },
   "outputs": [
    {
     "data": {
      "text/plain": [
       "[(u'-', 0.83939947124164938),\n",
       " (u'\\xbd', 0.83263768532396887),\n",
       " (u'gram', 0.82187636441527601),\n",
       " (u'cop', 0.81925752011298048),\n",
       " (u'kg', 0.79661556845890835),\n",
       " (u'sal', 0.78721414667800083),\n",
       " (u'lat', 0.76406385245338859),\n",
       " (u'colh', 0.70208549368797157),\n",
       " (u'x\\xedc', 0.70157768037901869),\n",
       " (u'ovos', 0.6915606790561446),\n",
       " (u'cebol', 0.66155030521267777),\n",
       " (u'piment\\xe3', 0.65732325918517276),\n",
       " (u'azeit', 0.65100126852155793),\n",
       " (u'ml', 0.65092944219440174),\n",
       " (u'piment', 0.64201975968115699),\n",
       " (u'g', 0.63912377556693079),\n",
       " (u'dent', 0.62678802923894272),\n",
       " (u'cub', 0.6158073227412485),\n",
       " (u'litr', 0.59729974297700605),\n",
       " (u'temper', 0.58758848997725077),\n",
       " (u'tomat', 0.58446700231098847),\n",
       " (u'folh', 0.57832087041975533),\n",
       " (u'xic', 0.57685047602165784),\n",
       " (u'queij', 0.55894716079932205),\n",
       " (u'(miojo)', 0.54196991354248214),\n",
       " (u'fat', 0.53141783146130339),\n",
       " (u'gr.', 0.51927054235099024),\n",
       " (u'farinh', 0.51882519635791258),\n",
       " (u'ch\\xe1', 0.51847990534419863),\n",
       " (u'leit', 0.51833594433429542),\n",
       " (u'gr', 0.51618687092836479),\n",
       " (u'cenour', 0.51292578276900502),\n",
       " (u'pimenta-do-rein', 0.51152369371200423),\n",
       " (u'(ch\\xe1)', 0.49769194442890635),\n",
       " (u'gem', 0.49385566851917739),\n",
       " (u'peg', 0.49375098348454893),\n",
       " (u'sop', 0.49007912219859245),\n",
       " (u'\\xe1gu', 0.48853768771230499),\n",
       " (u'molh', 0.48585541593455256),\n",
       " (u'carn', 0.47219954863361413),\n",
       " (u'grs.', 0.46518654455083192),\n",
       " (u'embalag', 0.46291382042693546),\n",
       " (u'batat', 0.45105386944834674),\n",
       " (u'alis', 0.44810872949698588),\n",
       " (u'peit', 0.44202053954602682),\n",
       " (u'bat', 0.43928177229228582),\n",
       " (u'umedec', 0.43667072561991799),\n",
       " (u'gom', 0.42964394508958825),\n",
       " (u'pacot', 0.42860973622018222),\n",
       " (u'alho', 0.4238549200726327),\n",
       " (u'condensado).', 0.41937889901151715),\n",
       " (u'acrescent', 0.41693671394821497),\n",
       " (u'clar', 0.4167505328437659),\n",
       " (u'pescoc', 0.41264946042382411),\n",
       " (u'(sobremesa)', 0.41111136116591357),\n",
       " (u'desenformada,', 0.40354287587332976),\n",
       " (u'qua', 0.40018014737557916),\n",
       " (u'manteig', 0.39746685168617968),\n",
       " (u'cozido)', 0.39737532921064567),\n",
       " ('time', 0.39600351706867271),\n",
       " (u'ovo', 0.39411476908029081),\n",
       " (u'tablet', 0.39208778937855793),\n",
       " (u'kil', 0.39153738117788006),\n",
       " (u'palit', 0.3900961353294089),\n",
       " (u'soja,', 0.3870530963849112),\n",
       " (u'um', 0.386068524964987),\n",
       " (u'maneir', 0.38510578117202343),\n",
       " (u'varia\\xe7\\xf5', 0.3842189502165429),\n",
       " (u'pit', 0.38377749749315837),\n",
       " (u'prontas.', 0.38206791861711858),\n",
       " (u'minutos;', 0.38078860726786046),\n",
       " (u'cald', 0.3801922488093028),\n",
       " (u'ac\\xe9m)', 0.37939125423993997),\n",
       " (u'sal,', 0.37918316610120095),\n",
       " (u'sals', 0.3786738603826581),\n",
       " (u'regi\\xe3', 0.37790453540001828),\n",
       " (u'enrole,', 0.37414803053676376),\n",
       " (u'passar,', 0.37144951003686882),\n",
       " (u'rabanete,', 0.36675652629676769),\n",
       " (u'claro,', 0.36581534427887574),\n",
       " (u'maria.', 0.3647246897721465),\n",
       " (u'cheir', 0.36393359160301431),\n",
       " (u'dias', 0.36366204104975292),\n",
       " (u'(sopa)', 0.36316207739909484),\n",
       " (u'salsich', 0.36306880890479076),\n",
       " (u'p\\xe3', 0.3598005226522315),\n",
       " (u'complemento.', 0.35860539376147382),\n",
       " (u'quibe,', 0.35624660679936265),\n",
       " (u'ralada,', 0.3557708602003693),\n",
       " (u'bot', 0.35482203384978972),\n",
       " (u'til\\xe1p', 0.35473124736056461),\n",
       " (u'mussarel', 0.35402959015698132),\n",
       " (u'tomates-cereja.', 0.35223897925520176),\n",
       " (u'crocante.', 0.35062613837661477),\n",
       " (u'oliv', 0.35020584444488012),\n",
       " (u's\\xf3,', 0.34950825262217289),\n",
       " (u'\\xf3le', 0.34841483198460826),\n",
       " (u'rein', 0.34812231876591809),\n",
       " (u'farinha.', 0.34728843682270943)]"
      ]
     },
     "execution_count": 113,
     "metadata": {},
     "output_type": "execute_result"
    }
   ],
   "source": [
    "quantity_model = GloveExtended(no_components=50, learning_rate=0.0001) \n",
    "quantity_model.fit(corpus_quantity.matrix, epochs=1000, no_threads=4, verbose=False)\n",
    "\n",
    "quantity_model.add_dictionary(corpus_quantity.dictionary)\n",
    "quantity_model.most_similar(\"number\",number=100)"
   ]
  },
  {
   "cell_type": "code",
   "execution_count": 120,
   "metadata": {
    "collapsed": false
   },
   "outputs": [
    {
     "name": "stdout",
     "output_type": "stream",
     "text": [
      "lat\n"
     ]
    }
   ],
   "source": [
    "print quantity_model.most_similar(\"number\",number=100)[6][0]"
   ]
  },
  {
   "cell_type": "code",
   "execution_count": 121,
   "metadata": {
    "collapsed": false
   },
   "outputs": [],
   "source": [
    "corpus_time = Corpus() \n",
    "corpus_time.fit(dataset, window=10)"
   ]
  },
  {
   "cell_type": "code",
   "execution_count": 122,
   "metadata": {
    "collapsed": false
   },
   "outputs": [
    {
     "data": {
      "text/plain": [
       "[(u'deix', 0.95298017435120375),\n",
       " (u'cozinh', 0.93463576611616639),\n",
       " (u'coloqu', 0.89765717794407007),\n",
       " (u'minutos.', 0.89673666683107978),\n",
       " (u'fog', 0.88625581124055663),\n",
       " (u'\\xe1gu', 0.88592309103092826),\n",
       " (u'lev', 0.87854671398454287),\n",
       " (u'junt', 0.87492069627761715),\n",
       " (u'acrescent', 0.87058073005157732),\n",
       " (u'panel', 0.86169029436174982),\n",
       " (u'carn', 0.8565783446145746),\n",
       " (u'minut', 0.85457349357506496),\n",
       " (u'mistur', 0.8516953032239708),\n",
       " (u'bem', 0.84912971750919064),\n",
       " (u'molh', 0.84708073858668365),\n",
       " (u'refog', 0.84657238213647867),\n",
       " (u'mex', 0.82463444088579396),\n",
       " (u'forn', 0.80161977251532834),\n",
       " (u'cald', 0.79916286259200819),\n",
       " (u'temper', 0.79593581918852019),\n",
       " (u'\\xf3le', 0.7867173086686301),\n",
       " (u'leit', 0.78636616278325655),\n",
       " (u'adicion', 0.78365290137116872),\n",
       " (u'frit', 0.78296887030253148),\n",
       " (u'x\\xedc', 0.77525710433883843),\n",
       " (u'cebol', 0.7735839285800119),\n",
       " (u'fic', 0.77351601839022766),\n",
       " (u'pouc', 0.77293078968772411),\n",
       " (u'mass', 0.75778476094245828),\n",
       " (u'-', 0.7574042159397506),\n",
       " (u'colh', 0.75347150979684596),\n",
       " (u'arroz', 0.75249946101539866),\n",
       " (u'sal', 0.75106870202632781),\n",
       " ('number', 0.74731236651228472),\n",
       " (u'(ch\\xe1)', 0.7453561457223411),\n",
       " (u'crem', 0.74498803780540857),\n",
       " (u'tomat', 0.74244574840046562),\n",
       " (u'bat', 0.74163095087772091),\n",
       " (u'manteig', 0.74109676487446696),\n",
       " (u'frang', 0.74005026182998435),\n",
       " (u'azeit', 0.73545766131217727),\n",
       " (u'ch\\xe1', 0.73446518039090303),\n",
       " (u'queij', 0.73313196825250793),\n",
       " (u'farinh', 0.73227374690395775),\n",
       " (u'descans', 0.73224992612521278),\n",
       " (u'ferv', 0.72863855388321608),\n",
       " (u'fat', 0.72555235715902777),\n",
       " (u'sal,', 0.72371422461286194),\n",
       " (u'sop', 0.72132634637356341),\n",
       " (u'pic', 0.71752059983773964),\n",
       " (u'cop', 0.71516515682622761),\n",
       " (u'grand', 0.71481990069955792),\n",
       " (u'margarin', 0.70917415605313994),\n",
       " (u'm\\xe9di', 0.70600316042197986),\n",
       " (u'cort', 0.70461733406833571),\n",
       " (u'(sopa)', 0.70307830598122112),\n",
       " (u'alho', 0.69926743401701086),\n",
       " (u'lat', 0.69632670015385334),\n",
       " (u'a\\xe7\\xfac', 0.69300999062308344),\n",
       " (u'kg', 0.69138513421676429),\n",
       " (u'litr', 0.68811842958820113),\n",
       " (u'ral', 0.68670245100614047),\n",
       " (u'salsinh', 0.68434282566077331),\n",
       " (u'retir', 0.68340692781365686),\n",
       " (u'gost', 0.68150904344857244),\n",
       " (u'piment', 0.67841119876896328),\n",
       " (u'azeiton', 0.6772715760596163),\n",
       " (u'dour', 0.67617954378801104),\n",
       " (u'minutos,', 0.6730167065878514),\n",
       " (u'batat', 0.67224107323061211),\n",
       " (u'coloc', 0.67154666042061806),\n",
       " (u'gram', 0.66851850885983566),\n",
       " (u'dissolv', 0.66081913061723485),\n",
       " (u'm\\xe9d', 0.65985432016166778),\n",
       " (u'xic', 0.65441877851153019),\n",
       " (u'dent', 0.65144667220978392),\n",
       " (u'coz', 0.65125873767407183),\n",
       " (u'alho,', 0.64883632367848831),\n",
       " (u'\\xbd', 0.6471805509086872),\n",
       " (u'folh', 0.64151636538914014),\n",
       " (u'g', 0.63913853633103224),\n",
       " (u'coc', 0.63834068901369345),\n",
       " (u'verd', 0.63805435038830827),\n",
       " (u'ml', 0.63473643239994582),\n",
       " (u'ovos', 0.63168534909415608),\n",
       " (u'pass', 0.62997771788760104),\n",
       " (u'trig', 0.62906808074844078),\n",
       " (u'parmes\\xe3', 0.62470540047360623),\n",
       " (u'ovo', 0.62130135219038352),\n",
       " (u'pimenta-do-rein', 0.61695563760579542),\n",
       " (u'galinh', 0.61636576965583201),\n",
       " (u'sals', 0.61534268605754128),\n",
       " (u'horas.', 0.61478570496493623),\n",
       " (u'quent', 0.61107086553291345),\n",
       " (u'vinh', 0.60856941292888256),\n",
       " (u'geladeir', 0.60297264210919899),\n",
       " (u'rend', 0.59690546961920254),\n",
       " (u'aquec', 0.59595800301965485),\n",
       " (u'pequen', 0.59510127138480218)]"
      ]
     },
     "execution_count": 122,
     "metadata": {},
     "output_type": "execute_result"
    }
   ],
   "source": [
    "time_model = GloveExtended(no_components=100, learning_rate=0.0001) \n",
    "time_model.fit(corpus_time.matrix, epochs=1000, no_threads=4, verbose=False)\n",
    "\n",
    "time_model.add_dictionary(corpus_time.dictionary)\n",
    "time_model.most_similar(\"time\",number=100)"
   ]
  },
  {
   "cell_type": "code",
   "execution_count": null,
   "metadata": {
    "collapsed": true
   },
   "outputs": [],
   "source": []
  }
 ],
 "metadata": {
  "kernelspec": {
   "display_name": "Python 2",
   "language": "python",
   "name": "python2"
  },
  "language_info": {
   "codemirror_mode": {
    "name": "ipython",
    "version": 2
   },
   "file_extension": ".py",
   "mimetype": "text/x-python",
   "name": "python",
   "nbconvert_exporter": "python",
   "pygments_lexer": "ipython2",
   "version": "2.7.11"
  }
 },
 "nbformat": 4,
 "nbformat_minor": 0
}
