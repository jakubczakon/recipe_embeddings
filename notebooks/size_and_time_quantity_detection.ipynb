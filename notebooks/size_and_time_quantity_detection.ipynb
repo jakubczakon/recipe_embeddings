{
 "cells": [
  {
   "cell_type": "code",
   "execution_count": 15,
   "metadata": {
    "collapsed": false
   },
   "outputs": [
    {
     "name": "stdout",
     "output_type": "stream",
     "text": [
      "The autoreload extension is already loaded. To reload it, use:\n",
      "  %reload_ext autoreload\n"
     ]
    }
   ],
   "source": [
    "%load_ext autoreload\n",
    "%autoreload 2\n",
    "\n",
    "import sys\n",
    "sys.path.insert(0, '../')\n",
    "\n",
    "import cPickle as pickle\n",
    "\n",
    "import os\n",
    "import json\n",
    "from copy import copy\n",
    "\n",
    "from itertools import groupby,chain,tee,izip,islice\n",
    "from collections import Iterable,Counter\n",
    "from operator import itemgetter \n",
    "\n",
    "import numpy as np\n",
    "from random import shuffle\n",
    "\n",
    "import re\n",
    "\n",
    "import nltk\n",
    "from nltk.stem import RSLPStemmer,SnowballStemmer\n",
    "from nltk import PunktSentenceTokenizer,FreqDist\n",
    "from nltk.corpus import stopwords\n",
    "from nltk import UnigramTagger,BigramTagger\n",
    "\n",
    "import gensim\n",
    "from gensim.models import Word2Vec,Phrases\n",
    "\n",
    "from glove import Glove,Corpus\n",
    "from word_embeddings_utils import GloveExtended\n",
    "from utils import pickle_in,pickle_out\n",
    "\n",
    "import nlpnet"
   ]
  },
  {
   "cell_type": "code",
   "execution_count": 72,
   "metadata": {
    "collapsed": false
   },
   "outputs": [],
   "source": [
    "size_detection_dataset_input_filepath = os.path.join(\"../datasets\",\n",
    "                                      \"size_quantity_detection_dataset.pkl\")\n",
    "dataset_size = pickle_in(size_detection_dataset_input_filepath)\n",
    "\n",
    "time_detection_dataset_input_filepath = os.path.join(\"../datasets\",\n",
    "                                      \"time_quantity_detection_dataset.pkl\")\n",
    "dataset_time= pickle_in(time_detection_dataset_input_filepath)"
   ]
  },
  {
   "cell_type": "markdown",
   "metadata": {},
   "source": [
    "Quick sneek-peek at the size detection dataset shows that usually if there is a quantity object it is right after the synthetic \"number\" token. For instance 'g'(gram) or 'embalag' (box), however there are a lot of ingredient entries without any quantity unit descriptors which could cause trouble"
   ]
  },
  {
   "cell_type": "code",
   "execution_count": 25,
   "metadata": {
    "collapsed": false
   },
   "outputs": [
    {
     "name": "stdout",
     "output_type": "stream",
     "text": [
      "[['number', u'g', u'linguic', u'fin'], ['number', u'piment\\xe3', u'vermelh', u'grand'], ['number', u'cebol', u'grand'], ['number', u'colh', u'sop', u'a\\xe7\\xfac'], ['number', u'azeit', u'quant', u'bast'], ['number', u'sal', u'piment', u'gost'], ['number', u'x\\xedc', u'ch\\xe1', u'sobr', u'arroz'], ['number', u'embalag', u'requeij\\xe3'], ['number', u'abobrinh', u'italian', u'ral'], ['number', u'ovos'], ['number', u'colh', u'sop', u'azeit'], ['number', u'cebol', u'pic'], ['number', u'cenour', u'ral'], ['number', u'sal', u'piment', u'gost'], ['number', u'sals', u'pic', u'gost'], ['number', u'queij', u'parmes\\xe3', u'ral', u'quant', u'bast'], ['number', u'capelett', u'frang'], ['number', u'kg', u'peit', u'frang', u'temper', u'coz', u'desfi'], ['number', u'cebol', u'ral'], ['number', u'tomat', u'picadinh']]\n"
     ]
    }
   ],
   "source": [
    "print dataset_size[:20]"
   ]
  },
  {
   "cell_type": "markdown",
   "metadata": {},
   "source": [
    "For the time detection dataset it looks like this"
   ]
  },
  {
   "cell_type": "code",
   "execution_count": 27,
   "metadata": {
    "collapsed": false,
    "scrolled": true
   },
   "outputs": [
    {
     "name": "stdout",
     "output_type": "stream",
     "text": [
      "[[u'coloqu', u'piment\\xe3', u'lav', u'sobr', u'boc', u'fog\\xe3', u'deix', u'casc', u'queim', u'bem.'], [u'enrol', u'piment\\xe3', u'queim', u'film', u'pl\\xe1stic', u'reserve.'], [u'lev', u'fog', u'cebol', u'cort', u'fin', u'fat', u'uniformes,', u'pouquinh', u'azeit', u'sal,', u'deix', u'cozinh', u'fog', u'baix', u'amolec', u'bem.'], [u'acrescent', u'a\\xe7\\xfac', u'cozinh', u'dour', u'bem.'], [u'junt', u'ent\\xe3', u'linguic', u'cort', u'rodel', u'deix', u'fritando.'], [u'enquant', u'linguic', u'frita,', u'volt', u'piment\\xe3o.'], [u'desembrulh', u'retir', u'casc', u'queimadas.'], [u'abra', u'piment\\xe3o,', u'descart', u'sement', u'cort', u'tir', u'simil', u'cebolas.'], [u'quand', u'linguic', u'suficient', u'frit', u'dourada,'], [u'coloqu', u'piment\\xe3', u'junt', u'mistura,', u'prov', u'temper', u'pronto.'], [u'sirv', u'p\\xe3', u'com', u'palit', u'aperitivo.'], [u'rend', 'time', u'+', u'por\\xe7\\xf5es.'], [u'em', u'panel', u'aquec', u'azeite,', u'dour', u'cebol', u'refog', u'uns', u'minut', u'cenour', u'abobrinha.'], [u'deix', u'esfriar.'], [u'no', u'liquidific', u'bat', u'ovos', u'cre', u'chees', u'fic', u'mistur', u'homog\\xeanea.'], [u'em', u'recipient', u'mistur', u'arroz', u'refog', u'legumes.'], [u'temper', u'sal,', u'piment', u'salsa.'], [u'ponh', u'refrat\\xe1ri', u'untad', u'margarina,'], [u'distribu', u'cre', u'chees', u'batido,'], [u'polvilh', u'queij', u'ral', u'lev', u'forn', 'time', u'minut', u'dourar.']]\n"
     ]
    }
   ],
   "source": [
    "print dataset_time[:20]"
   ]
  },
  {
   "cell_type": "markdown",
   "metadata": {},
   "source": [
    "Now, I am going to assume that tokens that appear in both time and size detection datasets are neither the size quantity nor the time quantity since usually recipes don't have those redundancies. \n",
    "Let's filter them out from our datasets"
   ]
  },
  {
   "cell_type": "markdown",
   "metadata": {
    "collapsed": true
   },
   "source": [
    "Training glove word embedding for size quantity detection leads to "
   ]
  },
  {
   "cell_type": "code",
   "execution_count": 73,
   "metadata": {
    "collapsed": true
   },
   "outputs": [],
   "source": [
    "corpus_quantity = Corpus() \n",
    "corpus_quantity.fit(dataset_size, window=1)"
   ]
  },
  {
   "cell_type": "code",
   "execution_count": 81,
   "metadata": {
    "collapsed": true
   },
   "outputs": [
    {
     "data": {
      "text/plain": [
       "[(u'gramas)', 0.96015643411324747),\n",
       " (u'g)', 0.95283309838405073),\n",
       " (u'gem', 0.93709072047249931),\n",
       " (u'bif', 0.90325127619706913),\n",
       " (u'espig', 0.89906845929814483),\n",
       " (u'gr', 0.8848908770304873),\n",
       " (u'piment\\xf5', 0.88030365455301907),\n",
       " (u'ram', 0.87083760930605003),\n",
       " (u'clar', 0.83111686086328063),\n",
       " (u'*', 0.82471210571726594),\n",
       " (u'-', 0.82416811009722535),\n",
       " (u'mioj', 0.80911397677127173),\n",
       " (u'fil\\xe9s', 0.79493378323661978),\n",
       " (u'oregan', 0.79253657874182615),\n",
       " (u'grs.', 0.78519189025405267),\n",
       " (u'vidr', 0.7795644956943889),\n",
       " (u'gr.', 0.77794779485645493),\n",
       " (u'banan', 0.77621702885450206),\n",
       " (u'par', 0.76152082161272849),\n",
       " (u'lagart', 0.75655904074719704),\n",
       " (u'ma\\xe7\\xe3s', 0.7564210697384276),\n",
       " (u'alumini', 0.74022919918950381),\n",
       " (u'costel', 0.7318445776450051),\n",
       " (u'abobrinh', 0.72235875276785544),\n",
       " (u'champanh', 0.7209697406450668),\n",
       " (u'xic', 0.71614795211140259),\n",
       " (u'mac', 0.71053189603488798),\n",
       " (u'american', 0.69662345896512712),\n",
       " (u'vermelhos,', 0.69573035383364279),\n",
       " (u'ml.', 0.69239293955826742),\n",
       " (u'embalag', 0.68834664112879917),\n",
       " (u'ovo', 0.67636387493422445),\n",
       " (u'g', 0.67172271442312781),\n",
       " (u'com:', 0.67039454531691756),\n",
       " (u'm\\xe1quin', 0.66137391566665915),\n",
       " (u'pot', 0.65448318570911035),\n",
       " (u'lim\\xf5', 0.64983756430007922),\n",
       " (u'kil', 0.64895755894694218),\n",
       " (u'amarg', 0.64567665695254928),\n",
       " (u'palh', 0.63703918430300543),\n",
       " (u'pit', 0.63482793353233602),\n",
       " (u'pectin', 0.63225670504233189),\n",
       " (u'quil', 0.63040858140892941),\n",
       " (u'ole', 0.6298784230917569),\n",
       " (u'ml', 0.62773831771157917),\n",
       " (u'qu\\xedmic', 0.62316751164825346),\n",
       " (u'pacot', 0.61666378216635787),\n",
       " (u'uni', 0.61300460824778424),\n",
       " (u'milho.', 0.60392829311933827)]"
      ]
     },
     "execution_count": 81,
     "metadata": {},
     "output_type": "execute_result"
    }
   ],
   "source": [
    "quantity_model = GloveExtended(no_components =100, learning_rate=0.1) \n",
    "quantity_model.fit(corpus_quantity.matrix, epochs=50, no_threads=4, verbose=False)\n",
    "\n",
    "quantity_model.add_dictionary(corpus_quantity.dictionary)\n",
    "quantity_model.most_similar(\"number\",number=50)"
   ]
  },
  {
   "cell_type": "markdown",
   "metadata": {},
   "source": [
    "We can see that not everything is a size quantity. There are some words like 'piment'(pepper) or 'cebol'(onion). "
   ]
  },
  {
   "cell_type": "code",
   "execution_count": 60,
   "metadata": {
    "collapsed": false
   },
   "outputs": [],
   "source": [
    "corpus_time = Corpus() \n",
    "corpus_time.fit(dataset_time, window=3)"
   ]
  },
  {
   "cell_type": "code",
   "execution_count": 82,
   "metadata": {
    "collapsed": true
   },
   "outputs": [
    {
     "data": {
      "text/plain": [
       "[(u'cerc', 0.99918856256396904),\n",
       " (u'minutos,', 0.99909796204584733),\n",
       " (u'descans', 0.99905329900624273),\n",
       " (u'uns', 0.9989386675003028),\n",
       " (u'horas.', 0.99853088885428498),\n",
       " (u'minutos.', 0.99847069236574526),\n",
       " (u'asse', 0.99791560319114814),\n",
       " (u'baix', 0.99781587765221358),\n",
       " (u'pot\\xeanc', 0.99770131552444485),\n",
       " (u'por\\xe7\\xf5es.', 0.99745918252204835),\n",
       " (u'adicion', 0.99718600673857538),\n",
       " (u'rend', 0.99694340658199165),\n",
       " (u'pr\\xe9-aquec', 0.99668322187832981),\n",
       " (u'dourar.', 0.99656006392365726),\n",
       " (u'rendimento:', 0.99654173956653447),\n",
       " (u'lev', 0.99618151437653379),\n",
       " (u'cubr', 0.99613998953185745),\n",
       " (u'fiqu', 0.99606069049340318),\n",
       " (u'tom', 0.99604159198826792),\n",
       " (u'minutos).', 0.9957816825418756),\n",
       " (u'despej', 0.99540384438344665),\n",
       " (u'marin', 0.99528416746278126),\n",
       " (u'coloc', 0.9952403081281388),\n",
       " (u'c', 0.99509767395373738),\n",
       " (u'restant', 0.99449449955938718),\n",
       " (u'm\\xednim', 0.99441907631019344),\n",
       " (u'assar', 0.99390663373221078),\n",
       " (u'ret\\xe2ngul', 0.99362096376850018),\n",
       " (u'por\\xe7\\xf5', 0.99297183421667046),\n",
       " (u'segu', 0.9929626727118479),\n",
       " (u'gratinar.', 0.99223906731772871),\n",
       " (u'serv', 0.99221333456597438),\n",
       " (u'microond', 0.99220258088839464),\n",
       " (u'brand', 0.99175064479050878),\n",
       " (u'press\\xe3o,', 0.99167422190111976),\n",
       " (u'essa', 0.99086004644325354),\n",
       " (u'horas,', 0.99065788049064607),\n",
       " (u'volt', 0.99042845753330855),\n",
       " (u'espalh', 0.99015229453331777),\n",
       " (u'acrescent', 0.9900994153865974),\n",
       " (u'fogo,', 0.98983299607641839),\n",
       " (u'ponh', 0.98974793491417035),\n",
       " (u'micro-ond', 0.98857330493690909),\n",
       " (u'depois,', 0.988286437514729),\n",
       " (u'a\\xe7\\xfacar.', 0.98682182265768936),\n",
       " (u'bem.', 0.98602754150881922),\n",
       " (u'untad', 0.9843309388589242),\n",
       " (u'comec', 0.98432260357386114),\n",
       " (u'assar.', 0.9837308190873183),\n",
       " (u'obter', 0.9832142757225264),\n",
       " (u'deixe-', 0.98311231944929567),\n",
       " (u'repous', 0.98130352693797507),\n",
       " (u'dobr', 0.98052685667583206),\n",
       " (u'banho-m', 0.98042832945622183),\n",
       " (u'cm).', 0.98041478548919958),\n",
       " (u'pessoas.', 0.97935764201673658),\n",
       " (u'seguida,', 0.97821903200245974),\n",
       " (u'c.', 0.97777725463341925),\n",
       " (u'press\\xe3o.', 0.97676314841574174),\n",
       " (u'engrossar.', 0.97624900100116663),\n",
       " (u'pr\\xe9-aquecido,', 0.97505111995315141),\n",
       " (u'geladeira.', 0.97500707590177593),\n",
       " (u'v\\xe1', 0.97439162435101134),\n",
       " (u'em', 0.97431821922083872),\n",
       " (u'ent\\xe3', 0.97194495876829023),\n",
       " (u'aquec', 0.9710508506492701),\n",
       " (u'panela,', 0.97040844312273578),\n",
       " (u'fervente.', 0.96994433762213927),\n",
       " (u'massa.', 0.96970645638780717),\n",
       " (u'cresc', 0.96827633881697273),\n",
       " (u's\\xe1bado,', 0.96255527215812209),\n",
       " (u'sempr', 0.96237584857716807),\n",
       " (u'deslig', 0.9612554130355575),\n",
       " (u'graus.', 0.9609315876075365),\n",
       " (u'min.', 0.96041595573947536),\n",
       " (u'minutos;', 0.95967343510858383),\n",
       " (u'fogo.', 0.95896673420621303),\n",
       " (u'alto', 0.95867682472092219),\n",
       " (u'troc', 0.95773380175738365),\n",
       " (u'servir.', 0.95752139654726731),\n",
       " (u'misture.', 0.95568390788346846),\n",
       " (u'vezes.', 0.95559116710687808),\n",
       " (u'segundos.', 0.95437975596865687),\n",
       " (u'cont', 0.95154561390019754),\n",
       " (u'esper', 0.94971306882729578),\n",
       " (u'abra', 0.94823280281264977),\n",
       " (u'depo', 0.94771763980725687),\n",
       " (u'vasilh', 0.94610696992776344),\n",
       " (u'batedeir', 0.94460410582632337),\n",
       " (u'alta.', 0.93476085953148058),\n",
       " (u'ferver,', 0.93404981616354055),\n",
       " (u'num', 0.93256345019287878),\n",
       " (u'preaquecido,', 0.92922779295242397),\n",
       " (u'dois', 0.92848690943755607),\n",
       " (u'm\\xednimo,', 0.92672374657459888),\n",
       " (u'abaix', 0.92453870945709604),\n",
       " (u'f\\xf4rm', 0.91305255089662718),\n",
       " (u'liquidificador,', 0.91281411578274552),\n",
       " (u'ralada,', 0.91175130627155365)]"
      ]
     },
     "execution_count": 82,
     "metadata": {},
     "output_type": "execute_result"
    }
   ],
   "source": [
    "time_model = GloveExtended(no_components=100, learning_rate=0.1) \n",
    "time_model.fit(corpus_time.matrix, epochs=10, no_threads=4, verbose=False)\n",
    "\n",
    "time_model.add_dictionary(corpus_time.dictionary)\n",
    "time_model.most_similar(\"time\",number=100)"
   ]
  },
  {
   "cell_type": "code",
   "execution_count": 92,
   "metadata": {
    "collapsed": false
   },
   "outputs": [],
   "source": [
    "size_detection_model = [sq[0] for sq in quantity_model.most_similar(\"number\",number=100)]\n",
    "time_detection_model = [tq[0] for tq in time_model.most_similar(\"time\",number=10)]\n",
    "pickle_out(os.path.join(\"../models\",\"quantity_detection_models\",\"size_detection.pkl\"),size_detection_model)\n",
    "pickle_out(os.path.join(\"../models\",\"quantity_detection_models\",\"timee_detection.pkl\"),time_detection_model)"
   ]
  },
  {
   "cell_type": "code",
   "execution_count": null,
   "metadata": {
    "collapsed": true
   },
   "outputs": [],
   "source": []
  }
 ],
 "metadata": {
  "kernelspec": {
   "display_name": "Python 2",
   "language": "python",
   "name": "python2"
  },
  "language_info": {
   "codemirror_mode": {
    "name": "ipython",
    "version": 2
   },
   "file_extension": ".py",
   "mimetype": "text/x-python",
   "name": "python",
   "nbconvert_exporter": "python",
   "pygments_lexer": "ipython2",
   "version": "2.7.11"
  }
 },
 "nbformat": 4,
 "nbformat_minor": 0
}
